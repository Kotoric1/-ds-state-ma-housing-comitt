{
 "cells": [
  {
   "cell_type": "markdown",
   "metadata": {},
   "source": [
    "# Income Profile"
   ]
  },
  {
   "cell_type": "markdown",
   "metadata": {},
   "source": [
    "Done by: Merna Alghannam, Team 1"
   ]
  },
  {
   "cell_type": "markdown",
   "metadata": {},
   "source": [
    "This did not work very well for median income especially for rural areas as not everyone in smaller municipalities rent homes. So, I found some municipalities with high eviction rate and hig income. I could only be because they simply own homes or another reason. Properties must be speific to renters, not all home owner. I found a similar issue however with percent of income payed to rent, which I expected to have a positive relationship. However, it was random."
   ]
  },
  {
   "cell_type": "code",
   "execution_count": null,
   "metadata": {
    "id": "HnJswG1rFxzP"
   },
   "outputs": [],
   "source": [
    "import pandas as pd\n",
    "import numpy as np\n",
    "import matplotlib.pyplot as plt\n",
    "from sklearn import linear_model\n",
    "# import statsmodels.api as sm"
   ]
  },
  {
   "cell_type": "code",
   "execution_count": null,
   "metadata": {
    "id": "9XaBcUj3FzyE"
   },
   "outputs": [],
   "source": [
    "ROOT_FOLDER = '/Users/merna/OneDrive/Desktop/ds-state-ma-housing-comitt/'"
   ]
  },
  {
   "cell_type": "code",
   "execution_count": null,
   "metadata": {},
   "outputs": [],
   "source": [
    "\n",
    "income_with_rate = pd.read_csv(ROOT_FOLDER+\"Eviction_Cases/income_normalized.csv\", index_col=0)"
   ]
  },
  {
   "cell_type": "code",
   "execution_count": null,
   "metadata": {
    "id": "tfvKspDFH0iV"
   },
   "outputs": [],
   "source": [
    "#population brackets file which contains the name of municipality for each bracket\n",
    "one_to_ten_k = pd.read_csv(ROOT_FOLDER+'population_brackets/1kTO10K.csv',skiprows=1)\n",
    "ten_to_fifty_k = pd.read_csv(ROOT_FOLDER+'population_brackets/10kTO50K.csv',skiprows=1)\n",
    "fifty_to_90_k = pd.read_csv(ROOT_FOLDER+'population_brackets/50kTO90K.csv',skiprows=1)\n",
    "ninty_to_200_k = pd.read_csv(ROOT_FOLDER+'population_brackets/90kTO200K.csv',skiprows=1)"
   ]
  },
  {
   "cell_type": "code",
   "execution_count": null,
   "metadata": {
    "id": "J8aBGG3tMwt4"
   },
   "outputs": [],
   "source": [
    "#created a df that contains only the municipalities in population bracket 1\n",
    "income_one_to_ten_k = income_with_rate[income_with_rate[\"Muni\"].isin(one_to_ten_k.Middleton.append(pd.Series('Middleton')))]\n",
    "\n",
    "#Found the top highest and lowest eviction rated per rented household - 2 municipipalities each\n",
    "low_median_1 = income_one_to_ten_k[income_one_to_ten_k['Eviction Numbers_x'] >=20].sort_values('Evictions per Rented Households', ascending=False).head(2).filter(['Muni','Median Income', 'Rent Burden'], axis=1)\n",
    "top_median_1 = income_one_to_ten_k[income_one_to_ten_k['Eviction Numbers_x'] >=10].sort_values('Evictions per Rented Households').head(2).filter(['Muni','Median Income', 'Rent Burden'], axis=1)\n",
    "\n",
    "#combined them together in a single df\n",
    "median_1 = pd.concat([low_median_1, top_median_1.reindex(index=top_median_1.index[::-1])])"
   ]
  },
  {
   "cell_type": "code",
   "execution_count": null,
   "metadata": {
    "id": "_fyEp-CRQZJl"
   },
   "outputs": [],
   "source": [
    "#created a df that contains only the municipalities in population bracket 2\n",
    "income_ten_to_fifty_k = income_with_rate[income_with_rate[\"Muni\"].isin(ten_to_fifty_k.Everett.append(pd.Series('Everett')))]\n",
    "\n",
    "#Found the top highest and lowest eviction rated per rented household - 2 municipipalities each\n",
    "low_median_2 = income_ten_to_fifty_k.sort_values('Evictions per Rented Households', ascending=False).head(2).filter(['Muni','Median Income', 'Rent Burden'], axis=1)\n",
    "top_median_2 = income_ten_to_fifty_k.sort_values('Evictions per Rented Households').head(2).filter(['Muni','Median Income', 'Rent Burden'], axis=1)\n",
    "\n",
    "#combined them together in a single df\n",
    "median_2 = pd.concat([low_median_2, top_median_2.reindex(index=top_median_2.index[::-1])])"
   ]
  },
  {
   "cell_type": "code",
   "execution_count": null,
   "metadata": {
    "id": "Z-9pWDhZSY_Q"
   },
   "outputs": [],
   "source": [
    "#created a df that contains only the municipalities in population bracket 3\n",
    "income_fifty_to_90_k = income_with_rate[income_with_rate[\"Muni\"].isin(fifty_to_90_k['Fall River'].append(pd.Series('Fall River')))]\n",
    "\n",
    "#Found the top highest and lowest eviction rated per rented household - 2 municipipalities each\n",
    "low_median_3 = income_fifty_to_90_k.sort_values('Evictions per Rented Households', ascending=False).head(2).filter(['Muni','Median Income', 'Rent Burden'], axis=1)\n",
    "top_median_3 = income_fifty_to_90_k.sort_values('Evictions per Rented Households').head(2).filter(['Muni','Median Income', 'Rent Burden'], axis=1)\n",
    "\n",
    "#combined them together in a single df\n",
    "median_3 = pd.concat([low_median_3, top_median_3.reindex(index=top_median_3.index[::-1])])"
   ]
  },
  {
   "cell_type": "code",
   "execution_count": null,
   "metadata": {
    "id": "Uu60eUGKTUm5"
   },
   "outputs": [],
   "source": [
    "#created a df that contains only the municipalities in population bracket 4\n",
    "income_ninty_to_200_k = income_with_rate[income_with_rate[\"Muni\"].isin(ninty_to_200_k['Worcester'].append(pd.Series('Worcester')))]\n",
    "\n",
    "#sorted municipalities from highest to lowest\n",
    "median_4 = income_ninty_to_200_k.sort_values('Evictions per Rented Households', ascending=False).filter(['Muni','Median Income', 'Rent Burden'], axis=1)"
   ]
  },
  {
   "cell_type": "markdown",
   "metadata": {},
   "source": [
    "# Plot median income distribution in relation to eviction rate"
   ]
  },
  {
   "cell_type": "code",
   "execution_count": null,
   "metadata": {
    "colab": {
     "base_uri": "https://localhost:8080/",
     "height": 304
    },
    "id": "Bhpms9WZHEzr",
    "outputId": "c995c84d-0dca-4dd9-a784-2cba96bda310"
   },
   "outputs": [],
   "source": [
    "plt.figure(figsize=(23,10))\n",
    "gateway_cities = [\"Attleboro\", \"Brockton\", \"Chelsea\", \"Chicopee\", \"Everett\", \"Fall River\", \"Fitchburg\", \"Haverhill\", \"Holyoke\",\n",
    "                  \"Lawrence\", \"Leominster\", \"Lowell\", \"Lynn\", \"Malden\", \n",
    "                  \"Methuen\", \"New Bedford\", \"Peabody\", \"Pittsfield\", \"Quincy\", \"Revere\", \"Salem\", \"Springfield\", \"Taunton\", \"Westfield\", \"Worcester\"]\n",
    "\n",
    "#Plot all municipalities in population bracket 1\n",
    "plt.plot(income_one_to_ten_k[income_one_to_ten_k['Eviction Numbers_x'] >=10]['Evictions per Rented Households'], income_one_to_ten_k[income_one_to_ten_k['Eviction Numbers_x'] >=10][\"Median Income\"], 'o',\n",
    "             label=\"Population Bracket 1\")\n",
    "\n",
    "#plot mean median income for all municipalities in population bracket 1\n",
    "plt.axhline(y=85204.0, label='Median for Population Bracket 1', color='b', linestyle='-')\n",
    "\n",
    "\n",
    "\n",
    "#Plot all municipalities in population bracket 2\n",
    "plt.plot(income_ten_to_fifty_k['Evictions per Rented Households'], income_ten_to_fifty_k[\"Median Income\"], '.',\n",
    "             label=\"Population Bracket 2\")\n",
    "\n",
    "#plot mean median income for all municipalities in population bracket 2\n",
    "plt.axhline(y=96062.0, label='Median for Population Bracket 2', color='orange', linestyle='-')\n",
    "\n",
    "#plot for population bracket 1 top highest and lowest eviction rated per \n",
    "#rented household - 2 municipipalities each\n",
    "for city in (median_2[\"Muni\"].tolist()):\n",
    "    plt.annotate(city, (income_ten_to_fifty_k[income_ten_to_fifty_k[\"Muni\"] == city]['Evictions per Rented Households'], \n",
    "                        income_ten_to_fifty_k[income_ten_to_fifty_k[\"Muni\"] == city][\"Median Income\"]))\n",
    "\n",
    "# Plot all gateway cities in population bracket 2\n",
    "for city in gateway_cities: \n",
    "    if city in income_ten_to_fifty_k[\"Muni\"].tolist():\n",
    "        plt.annotate(city, (income_ten_to_fifty_k[income_ten_to_fifty_k[\"Muni\"] == city]['Evictions per Rented Households'], \n",
    "                            income_ten_to_fifty_k[income_ten_to_fifty_k[\"Muni\"] == city][\"Median Income\"]), color='Red')\n",
    "\n",
    "plt.title('Median Income in Cities from Lowest to Highest Evictions per Rented Households', color='black')\n",
    "plt.xlabel(\"Rate of Evictions per Rented Households\")\n",
    "plt.ylabel(\"Median Income\")\n",
    "plt.legend(numpoints=1)\n",
    "plt.show()"
   ]
  },
  {
   "cell_type": "markdown",
   "metadata": {},
   "source": [
    "# Plot rent burden distribution in relation to eviction rate"
   ]
  },
  {
   "cell_type": "code",
   "execution_count": null,
   "metadata": {
    "colab": {
     "base_uri": "https://localhost:8080/",
     "height": 265
    },
    "id": "6GD9lNDrj75R",
    "outputId": "bd547277-8862-42f8-e5db-f88128c71186"
   },
   "outputs": [],
   "source": [
    "#Plot all municipalities in population bracket 1\n",
    "plt.plot(income_one_to_ten_k[income_one_to_ten_k['Eviction Numbers_x'] >=10]['Evictions per Rented Households'], income_one_to_ten_k[income_one_to_ten_k['Eviction Numbers_x'] >=10][\"Rent Burden\"], 'o',\n",
    "             label=\"marker='{0}'\".format('.'))\n",
    "\n",
    "#create a linear model for population bracket 1 \n",
    "rate_income = linear_model.LinearRegression().fit(np.array(income_one_to_ten_k[income_one_to_ten_k['Eviction Numbers_x'] >=10]['Evictions per Rented Households'].tolist()).reshape(-1, 1), np.array(income_one_to_ten_k[income_one_to_ten_k['Eviction Numbers_x'] >=10][\"Rent Burden\"]).tolist())\n",
    "regression_line = rate_income.predict(np.array(income_one_to_ten_k[income_one_to_ten_k['Eviction Numbers_x'] >=10]['Evictions per Rented Households'].tolist()).reshape(-1, 1))\n",
    "#plot line\n",
    "plt.plot(income_one_to_ten_k[income_one_to_ten_k['Eviction Numbers_x'] >=10]['Evictions per Rented Households'], regression_line, label='Best Fit Line', color='blue', linewidth=4)\n",
    "\n",
    "\n",
    "#Plot all municipalities in population bracket 2\n",
    "plt.plot(income_ten_to_fifty_k[income_ten_to_fifty_k['Eviction Numbers_x'] >=10]['Evictions per Rented Households'], income_ten_to_fifty_k[income_ten_to_fifty_k['Eviction Numbers_x'] >=10][\"Rent Burden\"], '.',\n",
    "             label=\"marker='{0}'\".format('.'))\n",
    "\n",
    "#create a linear model for population bracket 2\n",
    "rate_income1 = linear_model.LinearRegression().fit(np.array(income_ten_to_fifty_k[income_ten_to_fifty_k['Eviction Numbers_x'] >=10]['Evictions per Rented Households'].tolist()).reshape(-1, 1), np.array(income_ten_to_fifty_k[income_ten_to_fifty_k['Eviction Numbers_x'] >=10][\"Rent Burden\"]).tolist())\n",
    "regression_line1 = rate_income1.predict(np.array(income_ten_to_fifty_k[income_ten_to_fifty_k['Eviction Numbers_x'] >=10]['Evictions per Rented Households'].tolist()).reshape(-1, 1))\n",
    "\n",
    "#plot line\n",
    "plt.plot(income_ten_to_fifty_k[income_ten_to_fifty_k['Eviction Numbers_x'] >=10]['Evictions per Rented Households'], regression_line1, label='Best Fit Line', color='orange', linewidth=4)\n",
    "\n",
    "\n",
    "plt.legend(numpoints=1)\n",
    "plt.show()"
   ]
  },
  {
   "cell_type": "code",
   "execution_count": null,
   "metadata": {
    "colab": {
     "base_uri": "https://localhost:8080/",
     "height": 265
    },
    "id": "YDlf_sZSkcre",
    "outputId": "8e5a1fb5-bbb6-4513-d1b1-a48b0484950f"
   },
   "outputs": [],
   "source": [
    "#Plot all municipalities in population bracket 3\n",
    "plt.plot(income_fifty_to_90_k['Evictions per Rented Households'], income_fifty_to_90_k['Rent Burden'], 'x',\n",
    "             label=\"marker='{0}'\".format('x'))\n",
    "\n",
    "#Plot all municipalities in population bracket 2\n",
    "plt.plot(income_ninty_to_200_k['Evictions per Rented Households'], income_ninty_to_200_k['Rent Burden'], '+',\n",
    "             label=\"marker='{0}'\".format('+'))\n",
    "plt.legend(numpoints=1)\n",
    "plt.show()"
   ]
  },
  {
   "cell_type": "code",
   "execution_count": null,
   "metadata": {},
   "outputs": [],
   "source": []
  }
 ],
 "metadata": {
  "colab": {
   "name": "income_Profile_Population_Brackets.ipynb",
   "provenance": []
  },
  "kernelspec": {
   "display_name": "Python 3 (ipykernel)",
   "language": "python",
   "name": "python3"
  },
  "language_info": {
   "codemirror_mode": {
    "name": "ipython",
    "version": 3
   },
   "file_extension": ".py",
   "mimetype": "text/x-python",
   "name": "python",
   "nbconvert_exporter": "python",
   "pygments_lexer": "ipython3",
   "version": "3.7.10"
  }
 },
 "nbformat": 4,
 "nbformat_minor": 1
}
