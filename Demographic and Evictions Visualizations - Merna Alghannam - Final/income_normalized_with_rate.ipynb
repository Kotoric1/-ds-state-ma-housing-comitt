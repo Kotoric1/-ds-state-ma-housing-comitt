{
 "cells": [
  {
   "cell_type": "markdown",
   "id": "8f40ed0d",
   "metadata": {},
   "source": [
    "This code's methods is borrowed from yichen's code in his folder. The purpose of this file is to clean the income csv file retrieved from the us census website and merge with our eviction dataset."
   ]
  },
  {
   "cell_type": "markdown",
   "id": "00cca8e8",
   "metadata": {},
   "source": [
    "Done by: Merna Alghannam, Team 1"
   ]
  },
  {
   "cell_type": "code",
   "execution_count": 1,
   "id": "ceccb7a9",
   "metadata": {},
   "outputs": [],
   "source": [
    "import pandas as pd\n",
    "import numpy as np"
   ]
  },
  {
   "cell_type": "code",
   "execution_count": 2,
   "id": "d0eba6d9",
   "metadata": {},
   "outputs": [],
   "source": [
    "ROOT_FOLDER = \"/Users/merna/OneDrive/Desktop/ds-state-ma-housing-comitt/\""
   ]
  },
  {
   "cell_type": "code",
   "execution_count": 7,
   "id": "a97e2ad4",
   "metadata": {},
   "outputs": [
    {
     "name": "stderr",
     "output_type": "stream",
     "text": [
      "C:\\Users\\merna\\anaconda3\\envs\\tf1.13\\lib\\site-packages\\ipykernel_launcher.py:27: SettingWithCopyWarning: \n",
      "A value is trying to be set on a copy of a slice from a DataFrame.\n",
      "Try using .loc[row_indexer,col_indexer] = value instead\n",
      "\n",
      "See the caveats in the documentation: https://pandas.pydata.org/pandas-docs/stable/user_guide/indexing.html#returning-a-view-versus-a-copy\n",
      "C:\\Users\\merna\\anaconda3\\envs\\tf1.13\\lib\\site-packages\\ipykernel_launcher.py:28: SettingWithCopyWarning: \n",
      "A value is trying to be set on a copy of a slice from a DataFrame.\n",
      "Try using .loc[row_indexer,col_indexer] = value instead\n",
      "\n",
      "See the caveats in the documentation: https://pandas.pydata.org/pandas-docs/stable/user_guide/indexing.html#returning-a-view-versus-a-copy\n",
      "C:\\Users\\merna\\anaconda3\\envs\\tf1.13\\lib\\site-packages\\ipykernel_launcher.py:29: SettingWithCopyWarning: \n",
      "A value is trying to be set on a copy of a slice from a DataFrame.\n",
      "Try using .loc[row_indexer,col_indexer] = value instead\n",
      "\n",
      "See the caveats in the documentation: https://pandas.pydata.org/pandas-docs/stable/user_guide/indexing.html#returning-a-view-versus-a-copy\n"
     ]
    }
   ],
   "source": [
    "#Merge evictions data with household_normalized file\n",
    "household_new = pd.read_csv(ROOT_FOLDER + \"Eviction_Cases/household_normalization.csv\",index_col=0)\n",
    "household_new = household_new.sort_values('Evictions per Rented Households', ascending=False)\n",
    "\n",
    "\n",
    "#income per household per municipality\n",
    "income = pd.read_csv(ROOT_FOLDER+'Muni_Profile/2019_5Y_Income.csv',skiprows=1)\n",
    "#occupation of people in municipalities\n",
    "cdf = pd.read_csv(ROOT_FOLDER+'Eviction_Cases/eviction_num_by_muni.csv')\n",
    "\n",
    "counts = cdf[cdf['Muni'].isin(household_new.Muni)]\n",
    "\n",
    "# #data cleaning function 1\n",
    "def df_clean(df):\n",
    "    muni_list = []\n",
    "    for x in range(df.shape[0]):\n",
    "        wsplit = []\n",
    "        wsplit = df.iloc[x]['Geographic Area Name'].split()\n",
    "        word = ' '\n",
    "        reject_list = ['town','Town','city','City','city,','City,','town,','Town,']\n",
    "        for w in wsplit:\n",
    "            if w in reject_list:\n",
    "                break\n",
    "            else:    \n",
    "                word += ' ' + w \n",
    "        muni_list.append(word)    \n",
    "    df['Geographic Area Name'] = muni_list\n",
    "    df['Geographic Area Name'] = df['Geographic Area Name'].str.lstrip()\n",
    "    df['Geographic Area Name'] = df['Geographic Area Name'].str.rstrip()    \n",
    "    \n",
    "    return df\n",
    "\n",
    "#data cleaning function 2\n",
    "def keep_estimates(idf):\n",
    "    boolCols = idf.columns.str.contains('Estimate')\n",
    "    newCols = list(idf.columns[0:2])\n",
    "    for col in range(2,len(boolCols)):\n",
    "        if boolCols[col] == True:\n",
    "            newCols.append(idf.columns[col])\n",
    "    df = idf[newCols]\n",
    "    \n",
    "    return df\n",
    "\n",
    "income = df_clean(keep_estimates(income));\n",
    "\n",
    "#Merging munis with corresponding socio-economic features\n",
    "income_df =  pd.merge(counts,income,left_on='Muni',right_on='Geographic Area Name').drop(columns=['id','Geographic Area Name'])\n",
    "income_with_rate = pd.merge(household_new, income_df, left_on=household_new['Muni'], right_on=income_df.Muni)\n",
    "income_with_rate = income_with_rate.drop(['Muni_x', 'Muni_y', 'Eviction Numbers_y'], axis=1)\n",
    "income_with_rate.rename(columns={'key_0':'Muni', ' Eviction Numbers_x': 'eviction_num'}, inplace=True)\n",
    "\n",
    "income_with_rate['Median Income'] = income_with_rate['Estimate!!Households!!Median income (dollars)'].astype(str).replace('250,000+', '250000').astype(float)\n",
    "income_with_rate['Rent Burden'] = income_with_rate['Estimate!!Households!!PERCENT ALLOCATED!!Household income in the past 12 months'].astype(float)\n",
    "\n",
    "#only take those columns I wanted\n",
    "#which are those listed below\n",
    "income_with_rate = income_with_rate[[\"Muni\", \"Eviction Numbers_x\", \"Renter Occupied\", \"Evictions per Rented Households\",  'Median Income', 'Rent Burden', \"Renter Occupied Pct\"]]\n",
    "\n",
    "#save cleaned income code merged with household_normalize\n",
    "income_with_rate.to_csv(ROOT_FOLDER+\"Eviction_Cases\\income_normalized.csv\")"
   ]
  }
 ],
 "metadata": {
  "kernelspec": {
   "display_name": "Python 3 (ipykernel)",
   "language": "python",
   "name": "python3"
  },
  "language_info": {
   "codemirror_mode": {
    "name": "ipython",
    "version": 3
   },
   "file_extension": ".py",
   "mimetype": "text/x-python",
   "name": "python",
   "nbconvert_exporter": "python",
   "pygments_lexer": "ipython3",
   "version": "3.7.10"
  }
 },
 "nbformat": 4,
 "nbformat_minor": 5
}
