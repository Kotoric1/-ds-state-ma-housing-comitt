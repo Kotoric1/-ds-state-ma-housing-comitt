{
 "cells": [
  {
   "cell_type": "markdown",
   "metadata": {},
   "source": [
    "# Race Patterns Analysis"
   ]
  },
  {
   "cell_type": "markdown",
   "metadata": {},
   "source": [
    "Done by: Merna Alghannam, Team 1"
   ]
  },
  {
   "cell_type": "code",
   "execution_count": null,
   "metadata": {
    "id": "dN9boerRQSvm"
   },
   "outputs": [],
   "source": [
    "import pandas as pd\n",
    "import numpy as np\n",
    "import matplotlib.pyplot as plt\n",
    "from sklearn import linear_model\n",
    "# import statsmodels.api as sm"
   ]
  },
  {
   "cell_type": "code",
   "execution_count": null,
   "metadata": {
    "id": "veWIzx_IQVEO"
   },
   "outputs": [],
   "source": [
    "ROOT_FOLDER = '/Users/merna/OneDrive/Desktop/ds-state-ma-housing-comitt/'"
   ]
  },
  {
   "cell_type": "code",
   "execution_count": null,
   "metadata": {
    "colab": {
     "base_uri": "https://localhost:8080/",
     "height": 225
    },
    "id": "DxRhX0pVQmc_",
    "outputId": "923b8010-21bf-4f70-c39f-8d8822ca8433"
   },
   "outputs": [],
   "source": [
    "# data is now our pandas DataFrame containing all of the data from our csv file\n",
    "geo_df = pd.read_csv(ROOT_FOLDER + \"/Eviction_CaseS/eviction_with_geographic.csv\",index_col=0)"
   ]
  },
  {
   "cell_type": "code",
   "execution_count": null,
   "metadata": {
    "id": "Mk7UwyvrRusl"
   },
   "outputs": [],
   "source": [
    "# Created new columns where I calculated the total number of people in race a/total population in that municiplation and multiplied\n",
    "#by a 100 to get the percentage of each race in a municipality in order to ease analysis\n",
    "\n",
    "#Anyone not specified with a name in the dataset\n",
    "geo_df['other'] = (geo_df['Estimate!!Total:!!Not Hispanic or Latino:!!Some other race alone'] + geo_df['Estimate!!Total:!!Not Hispanic or Latino:!!Two or more races:']- geo_df['Estimate!!Total:!!Not Hispanic or Latino:!!Two or more races:!!Two races including Some other race'])/geo_df['Estimate!!Total:'] * 100\n",
    "\n",
    "#new column for percentage of white\n",
    "geo_df['White'] = geo_df['Estimate!!Total:!!Not Hispanic or Latino:!!White alone']/geo_df['Estimate!!Total:'] * 100\n",
    "\n",
    "geo_df['Black or African American'] = geo_df['Estimate!!Total:!!Not Hispanic or Latino:!!Black or African American alone']/geo_df['Estimate!!Total:'] * 100\n",
    "\n",
    "geo_df['Asian'] = geo_df['Estimate!!Total:!!Not Hispanic or Latino:!!Asian alone']/geo_df['Estimate!!Total:'] * 100\n",
    "\n",
    "geo_df['Native Hawaiian and Other Pacific Islander'] = geo_df['Estimate!!Total:!!Not Hispanic or Latino:!!Native Hawaiian and Other Pacific Islander alone']/geo_df['Estimate!!Total:'] * 100\n",
    "\n",
    "geo_df['American Indian and Alaska Native'] = geo_df['Estimate!!Total:!!Not Hispanic or Latino:!!American Indian and Alaska Native alone']/geo_df['Estimate!!Total:'] * 100\n",
    "\n",
    "geo_df['Hispanic or Latino'] = geo_df['Estimate!!Total:!!Hispanic or Latino:']/geo_df['Estimate!!Total:'] * 100\n",
    "\n",
    "#Calculated percentage of minorities or POC\n",
    "geo_df['Minority'] = geo_df['Hispanic or Latino'] + geo_df['Black or African American'] + geo_df['Native Hawaiian and Other Pacific Islander'] + geo_df['American Indian and Alaska Native']"
   ]
  },
  {
   "cell_type": "code",
   "execution_count": null,
   "metadata": {
    "id": "vv7Y9Y_KTWqU"
   },
   "outputs": [],
   "source": [
    "#contains all columns relavant for analysis\n",
    "race_profile_columns=['Muni',\"Eviction Numbers\", 'Evictions per Rented Households', 'White', 'Black or African American', 'Asian', 'Native Hawaiian and Other Pacific Islander',\n",
    "           'American Indian and Alaska Native', 'other', 'Hispanic or Latino']"
   ]
  },
  {
   "cell_type": "code",
   "execution_count": null,
   "metadata": {
    "id": "TzSQjR5URkQP"
   },
   "outputs": [],
   "source": [
    "#population brackets file which contains the name of municipality for each bracket\n",
    "one_to_ten_k = pd.read_csv(ROOT_FOLDER+'population_brackets/1kTO10K.csv',skiprows=1)\n",
    "ten_to_fifty_k = pd.read_csv(ROOT_FOLDER+'population_brackets/10kTO50K.csv',skiprows=1)\n",
    "fifty_to_90_k = pd.read_csv(ROOT_FOLDER+'population_brackets/50kTO90K.csv',skiprows=1)\n",
    "ninty_to_200_k = pd.read_csv(ROOT_FOLDER+'population_brackets/90kTO200K.csv',skiprows=1)"
   ]
  },
  {
   "cell_type": "code",
   "execution_count": null,
   "metadata": {
    "id": "33Zh3Y9mUCG_"
   },
   "outputs": [],
   "source": [
    "#created a df that contains only the municipalities in population bracket 1\n",
    "edu_one_to_ten_k = geo_df[geo_df[\"Muni\"].isin(one_to_ten_k.Middleton.append(pd.Series('Middleton')))]\n",
    "\n",
    "#Found the top highest and lowest eviction rated per rented household - 2 municipipalities each\n",
    "low_three_1 = edu_one_to_ten_k[edu_one_to_ten_k['Eviction Numbers'] >=20].sort_values('Evictions per Rented Households', ascending=False).head(2).filter(race_profile_columns, axis=1)\n",
    "top_three_1 = edu_one_to_ten_k[edu_one_to_ten_k['Eviction Numbers'] >=10].sort_values('Evictions per Rented Households').head(2).filter(race_profile_columns, axis=1)\n",
    "\n",
    "#combined them together in a single df\n",
    "race_1 = pd.concat([low_three_1, top_three_1.reindex(index=top_three_1.index[::-1])])"
   ]
  },
  {
   "cell_type": "code",
   "execution_count": null,
   "metadata": {},
   "outputs": [],
   "source": [
    "race_1"
   ]
  },
  {
   "cell_type": "code",
   "execution_count": null,
   "metadata": {
    "id": "vZBmRZB_V3Vj"
   },
   "outputs": [],
   "source": [
    "#created a df that contains only the municipalities in population bracket 2\n",
    "edu_ten_to_fifty_k = geo_df[geo_df[\"Muni\"].isin(ten_to_fifty_k.Everett.append(pd.Series('Everett')))]\n",
    "\n",
    "#Found the top highest and lowest eviction rated per rented household - 2 municipipalities each\n",
    "low_three_2 = edu_ten_to_fifty_k[edu_ten_to_fifty_k['Eviction Numbers'] >=10].sort_values('Evictions per Rented Households', ascending=False).head(2).filter(race_profile_columns, axis=1)\n",
    "top_three_2 = edu_ten_to_fifty_k[edu_ten_to_fifty_k['Eviction Numbers'] >=10].sort_values('Evictions per Rented Households').head(2).filter(race_profile_columns, axis=1)\n",
    "\n",
    "#combined them together in a single df\n",
    "race_2 = pd.concat([low_three_2, top_three_2.reindex(index=top_three_2.index[::-1])])"
   ]
  },
  {
   "cell_type": "code",
   "execution_count": null,
   "metadata": {},
   "outputs": [],
   "source": [
    "race_2"
   ]
  },
  {
   "cell_type": "code",
   "execution_count": null,
   "metadata": {
    "id": "7PM2QsfcWlcZ"
   },
   "outputs": [],
   "source": [
    "#created a df that contains only the municipalities in population bracket 3\n",
    "edu_fifty_to_90_k = geo_df[geo_df[\"Muni\"].isin(fifty_to_90_k['Fall River'].append(pd.Series('Fall River')))]\n",
    "\n",
    "#Found the top highest and lowest eviction rated per rented household - 2 municipipalities each\n",
    "low_three_3 = edu_fifty_to_90_k[edu_fifty_to_90_k['Eviction Numbers'] >=10].sort_values('Evictions per Rented Households', ascending=False).head(2).filter(race_profile_columns, axis=1)\n",
    "top_three_3 = edu_fifty_to_90_k[edu_fifty_to_90_k['Eviction Numbers'] >=10].sort_values('Evictions per Rented Households').head(2).filter(race_profile_columns, axis=1)\n",
    "\n",
    "#combined them together in a single df\n",
    "race_3 = pd.concat([low_three_3, top_three_3.reindex(index=top_three_3.index[::-1])])"
   ]
  },
  {
   "cell_type": "code",
   "execution_count": null,
   "metadata": {},
   "outputs": [],
   "source": [
    "race_3"
   ]
  },
  {
   "cell_type": "code",
   "execution_count": null,
   "metadata": {
    "id": "aWE4857tXPCx"
   },
   "outputs": [],
   "source": [
    "#created a df that contains only the municipalities in population bracket 3\n",
    "edu_ninty_to_200_k = geo_df[geo_df[\"Muni\"].isin(ninty_to_200_k['Worcester'].append(pd.Series('Worcester')))]\n",
    "\n",
    "#sorted municipalities from highest to lowest\n",
    "race_4 = edu_ninty_to_200_k.sort_values('Evictions per Rented Households', ascending=False).filter(race_profile_columns, axis=1)"
   ]
  },
  {
   "cell_type": "code",
   "execution_count": null,
   "metadata": {},
   "outputs": [],
   "source": [
    "race_4"
   ]
  },
  {
   "cell_type": "markdown",
   "metadata": {},
   "source": [
    "# Plot minoritiy distribution in relation to eviction rate"
   ]
  },
  {
   "cell_type": "code",
   "execution_count": null,
   "metadata": {
    "colab": {
     "base_uri": "https://localhost:8080/",
     "height": 621
    },
    "id": "3vQEEa5q9imC",
    "outputId": "a3b34825-15ed-472b-d8a3-6002c7781715"
   },
   "outputs": [],
   "source": [
    "plt.figure(figsize=(20,10))\n",
    "gateway_cities = [\"Attleboro\", \"Brockton\", \"Chelsea\", \"Chicopee\", \"Everett\", \"Fall River\", \"Fitchburg\", \"Haverhill\", \"Holyoke\",\n",
    "                  \"Lawrence\", \"Leominster\", \"Lowell\", \"Lynn\", \"Malden\", \n",
    "                  \"Methuen\", \"New Bedford\", \"Peabody\", \"Pittsfield\", \"Quincy\", \"Revere\", \"Salem\", \"Springfield\", \"Taunton\", \"Westfield\", \"Worcester\"]\n",
    "\n",
    "#Plot all municipalities in population bracket 1\n",
    "plt.plot(edu_one_to_ten_k['Evictions per Rented Households'], edu_one_to_ten_k[\"Minority\"], 'o',\n",
    "             label=\"Population: 1k - 10k\", markersize=3)\n",
    "\n",
    "#plot for population bracket 1 top highest and lowest eviction rated per \n",
    "#rented household - 2 municipipalities each\n",
    "for city in (race_1[\"Muni\"].tolist()):\n",
    "    plt.annotate(city, (edu_one_to_ten_k[edu_one_to_ten_k[\"Muni\"] == city]['Evictions per Rented Households'], \n",
    "                        edu_one_to_ten_k[edu_one_to_ten_k[\"Muni\"] == city][\"Minority\"]))\n",
    "\n",
    "#Plot all municipalities in population bracket 2\n",
    "plt.plot(edu_ten_to_fifty_k['Evictions per Rented Households'], edu_ten_to_fifty_k[\"Minority\"], 'o', label=\"Population: Population: 10k - 50k\")\n",
    "\n",
    "#plot for population bracket 1 top highest and lowest eviction rated per \n",
    "#rented household - 2 municipipalities each\n",
    "for city in (race_2[\"Muni\"].tolist()):\n",
    "    plt.annotate(city, (edu_ten_to_fifty_k[edu_ten_to_fifty_k[\"Muni\"] == city]['Evictions per Rented Households'], \n",
    "                        edu_ten_to_fifty_k[edu_ten_to_fifty_k[\"Muni\"] == city][\"Minority\"]))\n",
    "\n",
    "# Plot all gateway cities in population bracket 2\n",
    "for city in gateway_cities: \n",
    "    if city in edu_ten_to_fifty_k[\"Muni\"].tolist():\n",
    "        plt.annotate(city, (edu_ten_to_fifty_k[edu_ten_to_fifty_k[\"Muni\"] == city]['Evictions per Rented Households'], \n",
    "                            edu_ten_to_fifty_k[edu_ten_to_fifty_k[\"Muni\"] == city][\"Minority\"]), color='Purple', size=10)\n",
    "\n",
    "#Plot all municipalities in population bracket 3\n",
    "plt.plot(edu_fifty_to_90_k['Evictions per Rented Households'], edu_fifty_to_90_k[\"Minority\"], 'o', label=\"Population: 50k - 90k\", markersize=10)\n",
    "\n",
    "\n",
    "#plot for population bracket 1 top highest and lowest eviction rated per \n",
    "#rented household - 2 municipipalities each\n",
    "for city in (race_3[\"Muni\"].tolist()):\n",
    "    plt.annotate(city, (edu_fifty_to_90_k[edu_fifty_to_90_k[\"Muni\"] == city]['Evictions per Rented Households'], \n",
    "                        edu_fifty_to_90_k[edu_fifty_to_90_k[\"Muni\"] == city][\"Minority\"]))\n",
    "\n",
    "# Plot all gateway cities in population bracket 3\n",
    "for city in gateway_cities: \n",
    "    if city in edu_fifty_to_90_k[\"Muni\"].tolist():\n",
    "        plt.annotate(city, (edu_fifty_to_90_k[edu_fifty_to_90_k[\"Muni\"] == city]['Evictions per Rented Households'], \n",
    "                            edu_fifty_to_90_k[edu_fifty_to_90_k[\"Muni\"] == city][\"Minority\"]), color='Purple', size=10)\n",
    "\n",
    "#Plot all municipalities in population bracket 4\n",
    "plt.plot(edu_ninty_to_200_k['Evictions per Rented Households'], edu_ninty_to_200_k[\"Minority\"], 'o', label=\"Population: 90k - 200k\", markersize=15)\n",
    "\n",
    "# Plot all gateway cities in population bracket 4\n",
    "for city in gateway_cities: \n",
    "    if city in edu_ninty_to_200_k[\"Muni\"].tolist():\n",
    "        plt.annotate(city, (edu_ninty_to_200_k[edu_ninty_to_200_k[\"Muni\"] == city]['Evictions per Rented Households'], \n",
    "                            edu_ninty_to_200_k[edu_ninty_to_200_k[\"Muni\"] == city][\"Minority\"]), color='Purple', size=10)\n",
    "\n",
    "plt.title('% of Minorities in Cities from Lowest to Highest Evictions per Rented Households', color='black')\n",
    "plt.xlabel(\"Rate of Evictions per Rented Households\")\n",
    "plt.ylabel(\"% of Minorities\")\n",
    "plt.plot([], [], ' ', label=\"Purple Text: Gateway City\")\n",
    "plt.legend(numpoints=1)\n",
    "plt.show()"
   ]
  },
  {
   "cell_type": "markdown",
   "metadata": {
    "id": "cp4UXGMORqK9"
   },
   "source": [
    "# Statewide Race vs. Eviction Rate patterns"
   ]
  },
  {
   "cell_type": "code",
   "execution_count": null,
   "metadata": {
    "colab": {
     "base_uri": "https://localhost:8080/",
     "height": 1000
    },
    "id": "vxwWMWSIAKlH",
    "outputId": "44d4cf35-28e3-4fb5-c4f3-ea8e32eb1742"
   },
   "outputs": [],
   "source": [
    "\n",
    "#Plot all municipalities percentage for black/aa race\n",
    "plt.plot(geo_df['Evictions per Rented Households'], geo_df[\"Black or African American\"], 'o', markersize=3, color='blue')\n",
    "\n",
    "#Calculate linear regression model for Black/AA percentage per municipality\n",
    "rate_race = linear_model.LinearRegression().fit(geo_df['Evictions per Rented Households'].values.reshape(-1, 1), geo_df[\"Black or African American\"].values)\n",
    "regression_line = rate_race.predict(geo_df['Evictions per Rented Households'].values.reshape(-1, 1))\n",
    "\n",
    "#plot line\n",
    "plt.plot(geo_df['Evictions per Rented Households'].values, regression_line, label='Best Fit Line', color='blue', linewidth=1)\n",
    "\n",
    "plt.title('% Black/AA in all Municipality', color='black')\n",
    "plt.xlabel(\"Rate of Evictions per Rented Households\")\n",
    "plt.ylabel(\"% Black/AA\")\n",
    "plt.legend(numpoints=1)\n",
    "\n",
    "plt.show()\n",
    "\n",
    "#Plot all municipalities percentage for hispanic/latinx race\n",
    "plt.plot(geo_df['Evictions per Rented Households'].values, geo_df[\"Hispanic or Latino\"].values, 'o', markersize=3, color='orange')\n",
    "\n",
    "#Calculate linear regression model for hispanic/latinx percentage per municipality\n",
    "rate_race = linear_model.LinearRegression().fit(geo_df['Evictions per Rented Households'].values.reshape(-1, 1), geo_df[\"Hispanic or Latino\"].values)\n",
    "regression_line = rate_race.predict(geo_df['Evictions per Rented Households'].values.reshape(-1, 1))\n",
    "\n",
    "#plot line\n",
    "plt.plot(geo_df['Evictions per Rented Households'].values, regression_line, label='Best Fit Line', color='orange', linewidth=1)\n",
    "\n",
    "plt.title('% Hispanic/LatinX in all Municipality', color='black')\n",
    "plt.xlabel(\"Rate of Evictions per Rented Households\")\n",
    "plt.ylabel(\"% of Hispanic/LatinX\")\n",
    "plt.legend(numpoints=1)\n",
    "\n",
    "plt.show()\n",
    "\n",
    "#Plot all municipalities percentage for asian race\n",
    "plt.plot(geo_df['Evictions per Rented Households'], geo_df[\"Asian\"], 'o', markersize=3, color='purple')\n",
    "\n",
    "#Calculate linear regression model for asian percentage per municipality\n",
    "rate_race = linear_model.LinearRegression().fit(geo_df['Evictions per Rented Households'].values.reshape(-1, 1), geo_df[\"Asian\"].values)\n",
    "regression_line = rate_race.predict(geo_df['Evictions per Rented Households'].values.reshape(-1, 1))\n",
    "\n",
    "#plot line\n",
    "plt.plot(geo_df['Evictions per Rented Households'].values, regression_line, label='Best Fit Line', color='purple', linewidth=1)\n",
    "\n",
    "\n",
    "plt.title('% Asian in all Municipality', color='black')\n",
    "plt.xlabel(\"Rate of Evictions per Rented Households\")\n",
    "plt.ylabel(\"% Asian\")\n",
    "plt.legend(numpoints=1)\n",
    "\n",
    "plt.show()\n",
    "\n",
    "\n",
    "#Plot all municipalities percentage for white race\n",
    "plt.plot(geo_df['Evictions per Rented Households'], geo_df[\"White\"], 'o', markersize=3, color='red')\n",
    "\n",
    "#Calculate linear regression model for white percentage per municipality\n",
    "rate_race = linear_model.LinearRegression().fit(geo_df['Evictions per Rented Households'].values.reshape(-1, 1), geo_df[\"White\"].values)\n",
    "regression_line = rate_race.predict(geo_df['Evictions per Rented Households'].values.reshape(-1, 1))\n",
    "\n",
    "#plot line\n",
    "plt.plot(geo_df['Evictions per Rented Households'].values, regression_line, label='Best Fit Line', color='red', linewidth=1)\n",
    "\n",
    "\n",
    "plt.title('% White in all Municipality', color='black')\n",
    "plt.xlabel(\"Rate of Evictions per Rented Households\")\n",
    "plt.ylabel(\"% White\")\n",
    "plt.legend(numpoints=1)\n",
    "\n",
    "plt.show()"
   ]
  },
  {
   "cell_type": "markdown",
   "metadata": {},
   "source": [
    "# Race distribution in gateway cities vs. eviction rate "
   ]
  },
  {
   "cell_type": "code",
   "execution_count": null,
   "metadata": {},
   "outputs": [],
   "source": [
    "#Plot race distribution in relation to eviction rate for all gateway cities\n",
    "gateway_cities = [\"Attleboro\", \"Brockton\", \"Chelsea\", \"Chicopee\", \"Everett\", \"Fall River\", \"Fitchburg\", \"Haverhill\", \"Holyoke\",\n",
    "                  \"Lawrence\", \"Leominster\", \"Lowell\", \"Lynn\", \"Malden\", \n",
    "                  \"Methuen\", \"New Bedford\", \"Peabody\", \"Pittsfield\", \"Quincy\", \"Revere\", \"Salem\", \"Springfield\", \"Taunton\", \"Westfield\", \"Worcester\"]\n",
    "\n",
    "#Plot all gateway cities percentage for black/aa race\n",
    "plt.plot(geo_df[geo_df['Muni'].isin(gateway_cities)]['Evictions per Rented Households'], geo_df[geo_df['Muni'].isin(gateway_cities)][\"Black or African American\"], 'o', markersize=3, color='blue')\n",
    "\n",
    "\n",
    "plt.title('% Black/AA in Gateway Cities', color='black')\n",
    "plt.xlabel(\"Rate of Evictions per Rented Households\")\n",
    "plt.ylabel(\"% Black/AA\")\n",
    "\n",
    "plt.show()\n",
    "\n",
    "\n",
    "#Plot all gateway cities percentage for hispanic/latinx race\n",
    "plt.plot(geo_df[geo_df['Muni'].isin(gateway_cities)]['Evictions per Rented Households'], geo_df[geo_df['Muni'].isin(gateway_cities)][\"Hispanic or Latino\"], 'o', markersize=3, color='orange')\n",
    "\n",
    "plt.title('% Hispanic/LatinX in Gateway Cities', color='black')\n",
    "plt.xlabel(\"Rate of Evictions per Rented Households\")\n",
    "plt.ylabel(\"% of Hispanic/LatinX\")\n",
    "\n",
    "plt.show()\n",
    "\n",
    "\n",
    "#Plot all gateway cities percentage for asian race\n",
    "plt.plot(geo_df[geo_df['Muni'].isin(gateway_cities)]['Evictions per Rented Households'], geo_df[geo_df['Muni'].isin(gateway_cities)][\"Asian\"], 'o', markersize=3, color='purple')\n",
    "\n",
    "\n",
    "plt.title('% Asian in Gateway Cities', color='black')\n",
    "plt.xlabel(\"Rate of Evictions per Rented Households\")\n",
    "plt.ylabel(\"% Asian\")\n",
    "\n",
    "plt.show()\n",
    "\n",
    "\n",
    "#Plot all gateway cities percentage for white race\n",
    "plt.plot(geo_df[geo_df['Muni'].isin(gateway_cities)]['Evictions per Rented Households'], geo_df[geo_df['Muni'].isin(gateway_cities)][\"White\"], 'o', markersize=3, color='red')\n",
    "\n",
    "\n",
    "plt.title('% White in Gateway Cities', color='black')\n",
    "plt.xlabel(\"Rate of Evictions per Rented Households\")\n",
    "plt.ylabel(\"% White\")\n",
    "\n",
    "plt.show()"
   ]
  },
  {
   "cell_type": "code",
   "execution_count": null,
   "metadata": {
    "colab": {
     "base_uri": "https://localhost:8080/",
     "height": 520
    },
    "id": "Csm31-v1Num9",
    "outputId": "0733e7f1-9f7d-4d00-8fcd-d17e3117b875"
   },
   "outputs": [],
   "source": [
    "#attempted to create an ols model. It had very low statistical significance\n",
    "# X2 = sm.add_constant(edu_one_to_ten_k[[\"Hispanic or Latino\", \"Black or African American\", \"White\", \"Asian\"]])\n",
    "\n",
    "# est= sm.OLS(edu_one_to_ten_k['Evictions per Rented Households'].values, X2)\n",
    "# reg2 = est.fit()\n",
    "\n",
    "# reg2.summary()"
   ]
  }
 ],
 "metadata": {
  "colab": {
   "collapsed_sections": [],
   "name": "race_profile_population_bracket.ipynb",
   "provenance": []
  },
  "kernelspec": {
   "display_name": "Python 3 (ipykernel)",
   "language": "python",
   "name": "python3"
  },
  "language_info": {
   "codemirror_mode": {
    "name": "ipython",
    "version": 3
   },
   "file_extension": ".py",
   "mimetype": "text/x-python",
   "name": "python",
   "nbconvert_exporter": "python",
   "pygments_lexer": "ipython3",
   "version": "3.7.10"
  }
 },
 "nbformat": 4,
 "nbformat_minor": 1
}
