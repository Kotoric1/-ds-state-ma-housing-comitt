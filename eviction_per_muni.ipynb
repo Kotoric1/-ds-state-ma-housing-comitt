{
 "cells": [
  {
   "cell_type": "code",
   "execution_count": 1,
   "metadata": {},
   "outputs": [],
   "source": [
    " # By Yichen\n",
    "import pandas as pd\n",
    "import warnings\n",
    "warnings.filterwarnings(\"ignore\")"
   ]
  },
  {
   "cell_type": "code",
   "execution_count": 2,
   "metadata": {},
   "outputs": [
    {
     "name": "stdout",
     "output_type": "stream",
     "text": [
      "24675\n",
      "36956\n",
      "61631\n"
     ]
    }
   ],
   "source": [
    "idf = pd.read_csv('2019_5Y_Estimates.csv',skiprows=1)\n",
    "cdf_1 = pd.read_csv('2021-11-02-bu-m0_aug.csv')\n",
    "print(len(cdf_1))\n",
    "cdf_2 = pd.read_csv('2021-11-02-2220-bu-m18_aug.csv')\n",
    "print(len(cdf_2))\n",
    "cdf = pd.concat([cdf_1, cdf_2])\n",
    "print(len(cdf))"
   ]
  },
  {
   "cell_type": "code",
   "execution_count": 3,
   "metadata": {},
   "outputs": [],
   "source": [
    "counts = cdf.property_address_city.value_counts().reset_index()\n",
    "counts.rename(columns={'index':'property_address_city','property_address_city':'Eviction Numbers'},inplace=True)"
   ]
  },
  {
   "cell_type": "code",
   "execution_count": 4,
   "metadata": {},
   "outputs": [],
   "source": [
    "boolCols = idf.columns.str.contains('Estimate')\n",
    "newCols = list(idf.columns[0:2])\n",
    "for col in range(2,len(boolCols)):\n",
    "    if boolCols[col] == True:\n",
    "        newCols.append(idf.columns[col])"
   ]
  },
  {
   "cell_type": "code",
   "execution_count": 5,
   "metadata": {},
   "outputs": [],
   "source": [
    "df = idf[newCols]"
   ]
  },
  {
   "cell_type": "code",
   "execution_count": 6,
   "metadata": {},
   "outputs": [],
   "source": [
    "muni_list = []\n",
    "for x in range(df.shape[0]):\n",
    "    wsplit = []\n",
    "    wsplit = df.iloc[x]['Geographic Area Name'].split()\n",
    "    word = ' '\n",
    "    reject_list = ['town','Town','city','City','city,','City,','town,','Town,']\n",
    "    for w in wsplit:\n",
    "        if w in reject_list:\n",
    "            break\n",
    "        else:    \n",
    "            word += ' ' + w \n",
    "    muni_list.append(word)\n",
    "    "
   ]
  },
  {
   "cell_type": "code",
   "execution_count": 7,
   "metadata": {},
   "outputs": [],
   "source": [
    "df['Geographic Area Name'] = muni_list\n",
    "df['Geographic Area Name'] = df['Geographic Area Name'].str.lstrip()\n",
    "df['Geographic Area Name'] = df['Geographic Area Name'].str.rstrip()"
   ]
  },
  {
   "cell_type": "code",
   "execution_count": 8,
   "metadata": {},
   "outputs": [],
   "source": [
    "final_df = pd.merge(counts,df,left_on='property_address_city',right_on='Geographic Area Name').drop(columns=['id','Geographic Area Name'])"
   ]
  },
  {
   "cell_type": "code",
   "execution_count": 9,
   "metadata": {},
   "outputs": [],
   "source": [
    "final_df.to_csv(\"./eviction_with_geographic_2.csv\", index=False)"
   ]
  },
  {
   "cell_type": "code",
   "execution_count": null,
   "metadata": {},
   "outputs": [],
   "source": []
  }
 ],
 "metadata": {
  "kernelspec": {
   "display_name": "Python 3",
   "language": "python",
   "name": "python3"
  },
  "language_info": {
   "codemirror_mode": {
    "name": "ipython",
    "version": 3
   },
   "file_extension": ".py",
   "mimetype": "text/x-python",
   "name": "python",
   "nbconvert_exporter": "python",
   "pygments_lexer": "ipython3",
   "version": "3.8.5"
  }
 },
 "nbformat": 4,
 "nbformat_minor": 5
}
