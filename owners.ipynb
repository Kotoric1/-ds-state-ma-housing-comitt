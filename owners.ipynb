{
 "cells": [
  {
   "cell_type": "code",
   "execution_count": 1,
   "metadata": {},
   "outputs": [],
   "source": [
    "import pandas as pd\n",
    "import re\n",
    "import numpy as np\n",
    "import matplotlib.pyplot as plt\n",
    "\n",
    "df = pd.read_csv(\"./Eviction Filings thru July2021.csv\")"
   ]
  },
  {
   "cell_type": "code",
   "execution_count": 2,
   "metadata": {},
   "outputs": [
    {
     "name": "stdout",
     "output_type": "stream",
     "text": [
      "<class 'pandas.core.frame.DataFrame'>\n",
      "RangeIndex: 7923 entries, 0 to 7922\n",
      "Data columns (total 82 columns):\n",
      " #   Column            Non-Null Count  Dtype  \n",
      "---  ------            --------------  -----  \n",
      " 0   Unnamed: 0        7923 non-null   int64  \n",
      " 1   Join_Count        7923 non-null   int64  \n",
      " 2   TARGET_FID        7923 non-null   int64  \n",
      " 3   Loc_name          5016 non-null   object \n",
      " 4   Status            7923 non-null   object \n",
      " 5   Score             7923 non-null   float64\n",
      " 6   Match_type        7923 non-null   object \n",
      " 7   Match_addr        5016 non-null   object \n",
      " 8   User_fld          0 non-null      float64\n",
      " 9   Addr_type         5016 non-null   object \n",
      " 10  ARC_Street        5498 non-null   object \n",
      " 11  ARC_City          5498 non-null   object \n",
      " 12  ARC_State         5498 non-null   object \n",
      " 13  ARC_ZIP           5448 non-null   float64\n",
      " 14  case_numbe        7923 non-null   object \n",
      " 15  court_divi        7923 non-null   object \n",
      " 16  file_date         7923 non-null   object \n",
      " 17  initiating        7923 non-null   object \n",
      " 18  property_a        5498 non-null   object \n",
      " 19  property_1        5498 non-null   object \n",
      " 20  property_2        5498 non-null   object \n",
      " 21  property_3        7923 non-null   float64\n",
      " 22  mapc_id           7923 non-null   int64  \n",
      " 23  muni_id           7923 non-null   int64  \n",
      " 24  muni              5016 non-null   object \n",
      " 25  parloc_id         5016 non-null   object \n",
      " 26  poly_typ          5016 non-null   object \n",
      " 27  map_num           4434 non-null   object \n",
      " 28  mappar_id         4805 non-null   object \n",
      " 29  loc_id_cnt        7923 non-null   int64  \n",
      " 30  land_value        7923 non-null   float64\n",
      " 31  bldg_value        7923 non-null   float64\n",
      " 32  othr_value        7923 non-null   float64\n",
      " 33  total_valu        7923 non-null   float64\n",
      " 34  ls_price          7923 non-null   float64\n",
      " 35  ls_date           4394 non-null   float64\n",
      " 36  bldg_area         7923 non-null   float64\n",
      " 37  res_area          7923 non-null   float64\n",
      " 38  luc_1             5009 non-null   object \n",
      " 39  luc_2             5009 non-null   object \n",
      " 40  luc_adj_1         5009 non-null   float64\n",
      " 41  luc_adj_2         5009 non-null   float64\n",
      " 42  num_units         7923 non-null   float64\n",
      " 43  units_est         7923 non-null   float64\n",
      " 44  units_src         5016 non-null   object \n",
      " 45  num_rooms         7923 non-null   float64\n",
      " 46  yr_built          7923 non-null   int64  \n",
      " 47  site_addr         4992 non-null   object \n",
      " 48  addr_str          5008 non-null   object \n",
      " 49  addr_num          4930 non-null   object \n",
      " 50  addr_zip          3403 non-null   object \n",
      " 51  owner_name        5009 non-null   object \n",
      " 52  owner_addr        4999 non-null   object \n",
      " 53  owner_city        4997 non-null   object \n",
      " 54  owner_stat        4997 non-null   object \n",
      " 55  owner_zip         4977 non-null   object \n",
      " 56  fy                7923 non-null   int64  \n",
      " 57  lot_areaft        7923 non-null   float64\n",
      " 58  far               7923 non-null   float64\n",
      " 59  pct_imperv        7923 non-null   float64\n",
      " 60  pct_bldg          7923 non-null   float64\n",
      " 61  pct_pave          7923 non-null   float64\n",
      " 62  landv_pac         7923 non-null   float64\n",
      " 63  bldgv_psf         7923 non-null   float64\n",
      " 64  totv_pac          7923 non-null   float64\n",
      " 65  bldlnd_rat        7923 non-null   float64\n",
      " 66  sqm_imperv        7923 non-null   float64\n",
      " 67  sqm_bldg          7923 non-null   float64\n",
      " 68  sqm_pave          7923 non-null   float64\n",
      " 69  realesttyp        4982 non-null   float64\n",
      " 70  temp              7923 non-null   float64\n",
      " 71  st_area_sh        7923 non-null   float64\n",
      " 72  st_length_        7923 non-null   float64\n",
      " 73  geometry          7923 non-null   object \n",
      " 74  CoreName          5004 non-null   object \n",
      " 75  CleanName         5009 non-null   object \n",
      " 76  Corp              4762 non-null   object \n",
      " 77  EntityName        2359 non-null   object \n",
      " 78  DataID            2359 non-null   object \n",
      " 79  FEIN              2359 non-null   object \n",
      " 80  Owner_Groups_All  5009 non-null   object \n",
      " 81  Only_Groups       417 non-null    object \n",
      "dtypes: float64(33), int64(8), object(41)\n",
      "memory usage: 5.0+ MB\n",
      "None\n"
     ]
    }
   ],
   "source": [
    "print(df.info(null_counts=True))"
   ]
  },
  {
   "cell_type": "code",
   "execution_count": 3,
   "metadata": {},
   "outputs": [
    {
     "name": "stdout",
     "output_type": "stream",
     "text": [
      "WORCESTER HOUSING AUTHORITY      76\n",
      "JEFFERSON AT EDGEWATER HILLS     44\n",
      "LINCOLN STREET REALTY COMPANY    41\n",
      "GPT-RG FALL RIVER LLC            28\n",
      "WINDSOR GARDENS PROPCO LLC       27\n",
      "                                 ..\n",
      "AVILES,DAYANET                    1\n",
      "FENWAY STUDIOS INC                1\n",
      "DUNNING, BARBARA A TR             1\n",
      "75 NORTH PAUL STREET LLC          1\n",
      "PANIAGUA,CARMEN                   1\n",
      "Name: owner_name, Length: 3116, dtype: int64\n",
      "{76: 1, 44: 1, 41: 1, 28: 1, 27: 1, 24: 2, 22: 1, 21: 1, 20: 1, 18: 2, 17: 1, 15: 2, 14: 2, 13: 2, 12: 3, 11: 7, 10: 7, 9: 8, 8: 14, 7: 16, 6: 17, 5: 37, 4: 66, 3: 127, 2: 339, 1: 2456}\n"
     ]
    }
   ],
   "source": [
    "owner_count = df['owner_name'].value_counts()\n",
    "print(owner_count)\n",
    "owner_dict = owner_count.to_dict()\n",
    "\n",
    "# How many owners with corresponded evictions\n",
    "instances_list = {}\n",
    "for value in owner_dict.values():\n",
    "    if value not in instances_list:\n",
    "        instances_list[value] = 1\n",
    "    else:\n",
    "        instances_list[value] += 1\n",
    "print(instances_list)"
   ]
  },
  {
   "cell_type": "code",
   "execution_count": 4,
   "metadata": {},
   "outputs": [
    {
     "name": "stdout",
     "output_type": "stream",
     "text": [
      "[3, 7, 26, 624, 2456]\n"
     ]
    }
   ],
   "source": [
    "# evictions distribution\n",
    "distribution = [0, 0, 0, 0, 0]\n",
    "for key in instances_list.keys():\n",
    "    if key >= 30:\n",
    "        distribution[0] += instances_list[key]\n",
    "    elif 20 <= key < 30:\n",
    "        distribution[1] += instances_list[key]\n",
    "    elif 10 <= key < 20:\n",
    "        distribution[2] += instances_list[key]\n",
    "    elif 2 <= key < 10:\n",
    "        distribution[3] += instances_list[key]\n",
    "    else:\n",
    "        distribution[4] += instances_list[key]\n",
    "print(distribution)"
   ]
  },
  {
   "cell_type": "markdown",
   "metadata": {},
   "source": [
    "3 evictings with more than 30 evictions; 7 evictings with 20-30 evictions; 26 evictings with 10-20 evictions; 624 evictions with 2-10 evictions; 2456 evictions with 1 eviction."
   ]
  },
  {
   "cell_type": "code",
   "execution_count": 5,
   "metadata": {},
   "outputs": [
    {
     "name": "stdout",
     "output_type": "stream",
     "text": [
      "['WORCESTER HOUSING AUTHORITY', 'JEFFERSON AT EDGEWATER HILLS', 'LINCOLN STREET REALTY COMPANY', 'GPT-RG FALL RIVER LLC', 'WINDSOR GARDENS PROPCO LLC', 'GS STONEGATE PROJECT OWNER LLC', 'FRAMINGHAM HOUSING AUTHORITY', '600 MAIN STREET,LLC', 'ARCHSTONE NORTH POINT I LLC,', 'CLARENDON HILL SOMERVILLE LP']\n"
     ]
    }
   ],
   "source": [
    "owner_with_much_evictions = []\n",
    "for key in owner_dict.keys():\n",
    "    if owner_dict[key] >= 20:\n",
    "        owner_with_much_evictions.append(key)\n",
    "print(owner_with_much_evictions)"
   ]
  },
  {
   "cell_type": "code",
   "execution_count": 9,
   "metadata": {},
   "outputs": [
    {
     "name": "stdout",
     "output_type": "stream",
     "text": [
      "1292\n",
      "1825\n"
     ]
    }
   ],
   "source": [
    "# dict with evictings & Corp\n",
    "evictings_corp = df[['owner_name', 'Corp']]\n",
    "evictings_corp = evictings_corp.drop_duplicates(subset=['owner_name'],keep='first',inplace=False)\n",
    "evictings_corp_dict =  {key:values for key, values in zip(evictings_corp['owner_name'], evictings_corp['Corp'])}\n",
    "is_corp = 0\n",
    "not_corp = 0\n",
    "for value in evictings_corp_dict.values():\n",
    "    if value == True:\n",
    "        is_corp += 1\n",
    "    else:\n",
    "        not_corp += 1\n",
    "print(is_corp)\n",
    "print(not_corp)\n",
    "        "
   ]
  },
  {
   "cell_type": "code",
   "execution_count": 7,
   "metadata": {},
   "outputs": [
    {
     "name": "stdout",
     "output_type": "stream",
     "text": [
      "('WORCESTER HOUSING AUTHORITY', True)\n",
      "('JEFFERSON AT EDGEWATER HILLS', False)\n",
      "('LINCOLN STREET REALTY COMPANY', True)\n",
      "('GPT-RG FALL RIVER LLC', True)\n",
      "('WINDSOR GARDENS PROPCO LLC', True)\n",
      "('GS STONEGATE PROJECT OWNER LLC', True)\n",
      "('FRAMINGHAM HOUSING AUTHORITY', True)\n",
      "('600 MAIN STREET,LLC', True)\n",
      "('ARCHSTONE NORTH POINT I LLC,', True)\n",
      "('CLARENDON HILL SOMERVILLE LP', True)\n"
     ]
    }
   ],
   "source": [
    "for item in owner_with_much_evictions:\n",
    "    print((item, evictings_corp_dict[item]))"
   ]
  },
  {
   "cell_type": "code",
   "execution_count": null,
   "metadata": {},
   "outputs": [],
   "source": []
  }
 ],
 "metadata": {
  "kernelspec": {
   "display_name": "Python 3",
   "language": "python",
   "name": "python3"
  },
  "language_info": {
   "codemirror_mode": {
    "name": "ipython",
    "version": 3
   },
   "file_extension": ".py",
   "mimetype": "text/x-python",
   "name": "python",
   "nbconvert_exporter": "python",
   "pygments_lexer": "ipython3",
   "version": "3.8.5"
  }
 },
 "nbformat": 4,
 "nbformat_minor": 4
}
