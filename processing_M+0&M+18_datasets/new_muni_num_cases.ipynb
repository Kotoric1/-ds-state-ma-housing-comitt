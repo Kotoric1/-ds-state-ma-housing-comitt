{
 "cells": [
  {
   "cell_type": "code",
   "execution_count": null,
   "metadata": {},
   "outputs": [],
   "source": [
    "# Author: Binan Zhang\n",
    "# This file summarizes the number of eviction cases for each municipalities in M+0 and M+18 eviction datasets"
   ]
  },
  {
   "cell_type": "code",
   "execution_count": 2,
   "metadata": {},
   "outputs": [],
   "source": [
    "import numpy as np\n",
    "import pandas as pd"
   ]
  },
  {
   "cell_type": "code",
   "execution_count": 3,
   "metadata": {},
   "outputs": [
    {
     "name": "stdout",
     "output_type": "stream",
     "text": [
      "property_address_city\n",
      "Worcester         3743\n",
      "Springfield       2983\n",
      "Fall River        2355\n",
      "New Bedford       2282\n",
      "Lowell            1741\n",
      "                  ... \n",
      "North Truro          1\n",
      "North Pembroke       1\n",
      "West Chatham         1\n",
      "West Groton          1\n",
      "Manomet              1\n",
      "Length: 454, dtype: int64\n"
     ]
    }
   ],
   "source": [
    "# m0 -> new cases\n",
    "# m18 -> old cases\n",
    "m0 = pd.read_csv('2021-11-02-bu-m0_aug.csv', low_memory=False)\n",
    "m18 = pd.read_csv('2021-11-02-2220-bu-m18_aug.csv', low_memory=False)\n",
    "\n",
    "# read\n",
    "m0 = m0[['case_number', 'initiating_action', 'property_address_city', 'property_address_state', 'property_address_zip', 'reason']]\n",
    "m18 = m18[['case_number', 'initiating_action', 'property_address_city', 'property_address_state', 'property_address_zip', 'reason']]\n",
    "\n",
    "# combine\n",
    "df = pd.concat([m0, m18])\n",
    "\n",
    "# clean those without a census tract\n",
    "df = df.dropna(subset=['property_address_city'])\n",
    "\n",
    "# count eviction numbers for each city\n",
    "eviction_num_by_muni =df[['property_address_city']].groupby(['property_address_city']).size().sort_values(ascending=False)\n",
    "\n",
    "# save as csv\n",
    "eviction_num_by_muni.to_csv('eviction_num_by_muni.csv')\n",
    "\n",
    "print(eviction_num_by_muni)\n"
   ]
  }
 ],
 "metadata": {
  "interpreter": {
   "hash": "0ac516125b3ee16d4eaa41f008fade7bad50b808bd1b6d74d2e8ae0015ba9066"
  },
  "kernelspec": {
   "display_name": "Python 3.9.7 64-bit",
   "language": "python",
   "name": "python3"
  },
  "language_info": {
   "codemirror_mode": {
    "name": "ipython",
    "version": 3
   },
   "file_extension": ".py",
   "mimetype": "text/x-python",
   "name": "python",
   "nbconvert_exporter": "python",
   "pygments_lexer": "ipython3",
   "version": "3.8.1"
  },
  "orig_nbformat": 4
 },
 "nbformat": 4,
 "nbformat_minor": 2
}
