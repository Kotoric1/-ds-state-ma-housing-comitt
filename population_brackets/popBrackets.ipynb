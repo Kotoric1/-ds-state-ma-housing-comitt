{
 "cells": [
  {
   "cell_type": "code",
   "execution_count": null,
   "id": "2f4c41da",
   "metadata": {},
   "outputs": [],
   "source": [
    "#Trivikram Ranga"
   ]
  },
  {
   "cell_type": "code",
   "execution_count": 1,
   "id": "2615a4f3",
   "metadata": {},
   "outputs": [],
   "source": [
    "import pandas as pd\n",
    "import warnings\n",
    "warnings.filterwarnings(\"ignore\")\n",
    "import matplotlib.pyplot as plt\n",
    "import numpy as np"
   ]
  },
  {
   "cell_type": "code",
   "execution_count": 2,
   "id": "c6c89607",
   "metadata": {},
   "outputs": [],
   "source": [
    "pop = pd.read_csv('2019_5Y_Population.csv',skiprows=1)"
   ]
  },
  {
   "cell_type": "code",
   "execution_count": 3,
   "id": "e3e40080",
   "metadata": {},
   "outputs": [],
   "source": [
    "pop = pop[['Geographic Area Name','Estimate!!Total:']].rename(columns={'Estimate!!Total:':'Population'})"
   ]
  },
  {
   "cell_type": "code",
   "execution_count": 4,
   "id": "7de27bdd",
   "metadata": {},
   "outputs": [],
   "source": [
    "#data cleaning function \n",
    "#Use this function on any census dataset before merging with the evictions dataset\n",
    "def df_clean(df):\n",
    "    muni_list = []\n",
    "    for x in range(df.shape[0]):\n",
    "        wsplit = []\n",
    "        wsplit = df.iloc[x]['Geographic Area Name'].split()\n",
    "        word = ' '\n",
    "        reject_list = ['town','Town','city','City','city,','City,','town,','Town,']\n",
    "        for w in wsplit:\n",
    "            if w in reject_list:\n",
    "                break\n",
    "            else:    \n",
    "                word += ' ' + w \n",
    "        muni_list.append(word)    \n",
    "    df['Geographic Area Name'] = muni_list\n",
    "    df['Geographic Area Name'] = df['Geographic Area Name'].str.lstrip()\n",
    "    df['Geographic Area Name'] = df['Geographic Area Name'].str.rstrip()    \n",
    "    \n",
    "    return df"
   ]
  },
  {
   "cell_type": "code",
   "execution_count": 5,
   "id": "a6e6071c",
   "metadata": {},
   "outputs": [],
   "source": [
    "pop = df_clean(pop)"
   ]
  },
  {
   "cell_type": "code",
   "execution_count": 6,
   "id": "322e5793",
   "metadata": {},
   "outputs": [],
   "source": [
    "pop.drop(index=[0,48,76,234,264,292],inplace=True)"
   ]
  },
  {
   "cell_type": "code",
   "execution_count": 7,
   "id": "231f9a3f",
   "metadata": {},
   "outputs": [],
   "source": [
    "pop.sort_values(by=['Population'],ascending=False,inplace=True)\n",
    "pop[pop.Population <= 1000].to_csv('LTE1000.csv')\n",
    "pop[(pop.Population > 1000) & (pop.Population <= 10000)].to_csv('1kTO10K.csv')\n",
    "pop[(pop.Population > 10000) & (pop.Population <= 50000)].to_csv('10kTO50K.csv')\n",
    "pop[(pop.Population > 50000) & (pop.Population <= 90000)].to_csv('50kTO90K.csv')\n",
    "pop[(pop.Population > 90000) & (pop.Population <= 200000)].to_csv('90kTO200K.csv')"
   ]
  },
  {
   "cell_type": "code",
   "execution_count": null,
   "id": "079b1516",
   "metadata": {},
   "outputs": [],
   "source": []
  }
 ],
 "metadata": {
  "kernelspec": {
   "display_name": "Python 3 (ipykernel)",
   "language": "python",
   "name": "python3"
  },
  "language_info": {
   "codemirror_mode": {
    "name": "ipython",
    "version": 3
   },
   "file_extension": ".py",
   "mimetype": "text/x-python",
   "name": "python",
   "nbconvert_exporter": "python",
   "pygments_lexer": "ipython3",
   "version": "3.7.10"
  }
 },
 "nbformat": 4,
 "nbformat_minor": 5
}
