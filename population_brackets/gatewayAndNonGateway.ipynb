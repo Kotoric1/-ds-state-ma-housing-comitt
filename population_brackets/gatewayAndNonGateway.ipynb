{
 "cells": [
  {
   "cell_type": "code",
   "execution_count": null,
   "id": "5eced7e3",
   "metadata": {},
   "outputs": [],
   "source": [
    "#Trivikram Ranga"
   ]
  },
  {
   "cell_type": "code",
   "execution_count": 1,
   "id": "1bb376c8",
   "metadata": {},
   "outputs": [],
   "source": [
    "import pandas as pd"
   ]
  },
  {
   "cell_type": "code",
   "execution_count": 2,
   "id": "2b25c4dd",
   "metadata": {},
   "outputs": [],
   "source": [
    "lower = pd.read_csv('50kTO90K.csv')\n",
    "higher = pd.read_csv('90kTO200K.csv')"
   ]
  },
  {
   "cell_type": "code",
   "execution_count": 3,
   "id": "362f8273",
   "metadata": {},
   "outputs": [
    {
     "data": {
      "text/html": [
       "<div>\n",
       "<style scoped>\n",
       "    .dataframe tbody tr th:only-of-type {\n",
       "        vertical-align: middle;\n",
       "    }\n",
       "\n",
       "    .dataframe tbody tr th {\n",
       "        vertical-align: top;\n",
       "    }\n",
       "\n",
       "    .dataframe thead th {\n",
       "        text-align: right;\n",
       "    }\n",
       "</style>\n",
       "<table border=\"1\" class=\"dataframe\">\n",
       "  <thead>\n",
       "    <tr style=\"text-align: right;\">\n",
       "      <th></th>\n",
       "      <th>Unnamed: 0</th>\n",
       "      <th>Geographic Area Name</th>\n",
       "      <th>Population</th>\n",
       "    </tr>\n",
       "  </thead>\n",
       "  <tbody>\n",
       "    <tr>\n",
       "      <th>0</th>\n",
       "      <td>56</td>\n",
       "      <td>Fall River</td>\n",
       "      <td>89388</td>\n",
       "    </tr>\n",
       "    <tr>\n",
       "      <th>1</th>\n",
       "      <td>212</td>\n",
       "      <td>Newton</td>\n",
       "      <td>88593</td>\n",
       "    </tr>\n",
       "    <tr>\n",
       "      <th>2</th>\n",
       "      <td>218</td>\n",
       "      <td>Somerville</td>\n",
       "      <td>80906</td>\n",
       "    </tr>\n",
       "    <tr>\n",
       "      <th>3</th>\n",
       "      <td>89</td>\n",
       "      <td>Lawrence</td>\n",
       "      <td>79942</td>\n",
       "    </tr>\n",
       "    <tr>\n",
       "      <th>4</th>\n",
       "      <td>197</td>\n",
       "      <td>Framingham</td>\n",
       "      <td>72308</td>\n",
       "    </tr>\n",
       "  </tbody>\n",
       "</table>\n",
       "</div>"
      ],
      "text/plain": [
       "   Unnamed: 0 Geographic Area Name  Population\n",
       "0          56           Fall River       89388\n",
       "1         212               Newton       88593\n",
       "2         218           Somerville       80906\n",
       "3          89             Lawrence       79942\n",
       "4         197           Framingham       72308"
      ]
     },
     "execution_count": 3,
     "metadata": {},
     "output_type": "execute_result"
    }
   ],
   "source": [
    "lower.head(5)"
   ]
  },
  {
   "cell_type": "code",
   "execution_count": 4,
   "id": "3213509a",
   "metadata": {},
   "outputs": [
    {
     "name": "stdout",
     "output_type": "stream",
     "text": [
      "Index(['Unnamed: 0', 'Muni', 'Eviction Numbers', 'Total Households',\n",
      "       'Renter Occupied Pct', 'Renter Occupied',\n",
      "       'Evictions per Rented Households'],\n",
      "      dtype='object')\n"
     ]
    }
   ],
   "source": [
    "normalized_df = pd.read_csv('household_normalization.csv')\n",
    "print(normalized_df.columns)"
   ]
  },
  {
   "cell_type": "code",
   "execution_count": 5,
   "id": "6e68340f",
   "metadata": {},
   "outputs": [
    {
     "name": "stdout",
     "output_type": "stream",
     "text": [
      "   Unnamed: 0       Muni  Eviction Numbers  Total Households  \\\n",
      "0           0  Worcester              3743             71595   \n",
      "\n",
      "   Renter Occupied Pct  Renter Occupied  Evictions per Rented Households  \n",
      "0                 58.7            42026                         0.089064  \n"
     ]
    }
   ],
   "source": [
    "print(normalized_df.head(1))"
   ]
  },
  {
   "cell_type": "code",
   "execution_count": 6,
   "id": "06fc9f8a",
   "metadata": {},
   "outputs": [
    {
     "data": {
      "text/html": [
       "<div>\n",
       "<style scoped>\n",
       "    .dataframe tbody tr th:only-of-type {\n",
       "        vertical-align: middle;\n",
       "    }\n",
       "\n",
       "    .dataframe tbody tr th {\n",
       "        vertical-align: top;\n",
       "    }\n",
       "\n",
       "    .dataframe thead th {\n",
       "        text-align: right;\n",
       "    }\n",
       "</style>\n",
       "<table border=\"1\" class=\"dataframe\">\n",
       "  <thead>\n",
       "    <tr style=\"text-align: right;\">\n",
       "      <th></th>\n",
       "      <th>Unnamed: 0</th>\n",
       "      <th>Geographic Area Name</th>\n",
       "      <th>Population</th>\n",
       "    </tr>\n",
       "  </thead>\n",
       "  <tbody>\n",
       "    <tr>\n",
       "      <th>0</th>\n",
       "      <td>356</td>\n",
       "      <td>Worcester</td>\n",
       "      <td>185143</td>\n",
       "    </tr>\n",
       "    <tr>\n",
       "      <th>1</th>\n",
       "      <td>154</td>\n",
       "      <td>Springfield</td>\n",
       "      <td>154139</td>\n",
       "    </tr>\n",
       "    <tr>\n",
       "      <th>2</th>\n",
       "      <td>190</td>\n",
       "      <td>Cambridge</td>\n",
       "      <td>116632</td>\n",
       "    </tr>\n",
       "    <tr>\n",
       "      <th>3</th>\n",
       "      <td>205</td>\n",
       "      <td>Lowell</td>\n",
       "      <td>111306</td>\n",
       "    </tr>\n",
       "    <tr>\n",
       "      <th>4</th>\n",
       "      <td>267</td>\n",
       "      <td>Brockton</td>\n",
       "      <td>95594</td>\n",
       "    </tr>\n",
       "  </tbody>\n",
       "</table>\n",
       "</div>"
      ],
      "text/plain": [
       "   Unnamed: 0 Geographic Area Name  Population\n",
       "0         356            Worcester      185143\n",
       "1         154          Springfield      154139\n",
       "2         190            Cambridge      116632\n",
       "3         205               Lowell      111306\n",
       "4         267             Brockton       95594"
      ]
     },
     "execution_count": 6,
     "metadata": {},
     "output_type": "execute_result"
    }
   ],
   "source": [
    "higher.head(5)"
   ]
  },
  {
   "cell_type": "code",
   "execution_count": 7,
   "id": "3135fa69",
   "metadata": {},
   "outputs": [],
   "source": [
    "compare_lower = normalized_df[normalized_df.Muni.isin(lower['Geographic Area Name'])][['Muni','Eviction Numbers','Renter Occupied','Evictions per Rented Households']]\n",
    "compare_higher = normalized_df[normalized_df.Muni.isin(higher['Geographic Area Name'])][['Muni','Eviction Numbers','Renter Occupied','Evictions per Rented Households']]"
   ]
  },
  {
   "cell_type": "code",
   "execution_count": 8,
   "id": "f969d246",
   "metadata": {},
   "outputs": [
    {
     "data": {
      "text/html": [
       "<div>\n",
       "<style scoped>\n",
       "    .dataframe tbody tr th:only-of-type {\n",
       "        vertical-align: middle;\n",
       "    }\n",
       "\n",
       "    .dataframe tbody tr th {\n",
       "        vertical-align: top;\n",
       "    }\n",
       "\n",
       "    .dataframe thead th {\n",
       "        text-align: right;\n",
       "    }\n",
       "</style>\n",
       "<table border=\"1\" class=\"dataframe\">\n",
       "  <thead>\n",
       "    <tr style=\"text-align: right;\">\n",
       "      <th></th>\n",
       "      <th>Muni</th>\n",
       "      <th>Eviction Numbers</th>\n",
       "      <th>Renter Occupied</th>\n",
       "      <th>Evictions per Rented Households</th>\n",
       "    </tr>\n",
       "  </thead>\n",
       "  <tbody>\n",
       "    <tr>\n",
       "      <th>2</th>\n",
       "      <td>Fall River</td>\n",
       "      <td>2355</td>\n",
       "      <td>24496</td>\n",
       "      <td>0.096138</td>\n",
       "    </tr>\n",
       "    <tr>\n",
       "      <th>9</th>\n",
       "      <td>Framingham</td>\n",
       "      <td>1154</td>\n",
       "      <td>13010</td>\n",
       "      <td>0.088701</td>\n",
       "    </tr>\n",
       "    <tr>\n",
       "      <th>13</th>\n",
       "      <td>Haverhill</td>\n",
       "      <td>757</td>\n",
       "      <td>10405</td>\n",
       "      <td>0.072753</td>\n",
       "    </tr>\n",
       "    <tr>\n",
       "      <th>14</th>\n",
       "      <td>Revere</td>\n",
       "      <td>691</td>\n",
       "      <td>9630</td>\n",
       "      <td>0.071755</td>\n",
       "    </tr>\n",
       "    <tr>\n",
       "      <th>8</th>\n",
       "      <td>Lawrence</td>\n",
       "      <td>1194</td>\n",
       "      <td>17911</td>\n",
       "      <td>0.066663</td>\n",
       "    </tr>\n",
       "  </tbody>\n",
       "</table>\n",
       "</div>"
      ],
      "text/plain": [
       "          Muni  Eviction Numbers  Renter Occupied  \\\n",
       "2   Fall River              2355            24496   \n",
       "9   Framingham              1154            13010   \n",
       "13   Haverhill               757            10405   \n",
       "14      Revere               691             9630   \n",
       "8     Lawrence              1194            17911   \n",
       "\n",
       "    Evictions per Rented Households  \n",
       "2                          0.096138  \n",
       "9                          0.088701  \n",
       "13                         0.072753  \n",
       "14                         0.071755  \n",
       "8                          0.066663  "
      ]
     },
     "execution_count": 8,
     "metadata": {},
     "output_type": "execute_result"
    }
   ],
   "source": [
    "compare_lower.head(5).sort_values(by='Evictions per Rented Households',ascending=False)"
   ]
  },
  {
   "cell_type": "code",
   "execution_count": 9,
   "id": "7ed793ae",
   "metadata": {},
   "outputs": [
    {
     "data": {
      "text/html": [
       "<div>\n",
       "<style scoped>\n",
       "    .dataframe tbody tr th:only-of-type {\n",
       "        vertical-align: middle;\n",
       "    }\n",
       "\n",
       "    .dataframe tbody tr th {\n",
       "        vertical-align: top;\n",
       "    }\n",
       "\n",
       "    .dataframe thead th {\n",
       "        text-align: right;\n",
       "    }\n",
       "</style>\n",
       "<table border=\"1\" class=\"dataframe\">\n",
       "  <thead>\n",
       "    <tr style=\"text-align: right;\">\n",
       "      <th></th>\n",
       "      <th>Muni</th>\n",
       "      <th>Eviction Numbers</th>\n",
       "      <th>Renter Occupied</th>\n",
       "      <th>Evictions per Rented Households</th>\n",
       "    </tr>\n",
       "  </thead>\n",
       "  <tbody>\n",
       "    <tr>\n",
       "      <th>5</th>\n",
       "      <td>Brockton</td>\n",
       "      <td>1507</td>\n",
       "      <td>14317</td>\n",
       "      <td>0.105259</td>\n",
       "    </tr>\n",
       "    <tr>\n",
       "      <th>1</th>\n",
       "      <td>Springfield</td>\n",
       "      <td>2983</td>\n",
       "      <td>30095</td>\n",
       "      <td>0.099119</td>\n",
       "    </tr>\n",
       "    <tr>\n",
       "      <th>3</th>\n",
       "      <td>New Bedford</td>\n",
       "      <td>2282</td>\n",
       "      <td>23255</td>\n",
       "      <td>0.098129</td>\n",
       "    </tr>\n",
       "    <tr>\n",
       "      <th>0</th>\n",
       "      <td>Worcester</td>\n",
       "      <td>3743</td>\n",
       "      <td>42026</td>\n",
       "      <td>0.089064</td>\n",
       "    </tr>\n",
       "    <tr>\n",
       "      <th>4</th>\n",
       "      <td>Lowell</td>\n",
       "      <td>1741</td>\n",
       "      <td>22745</td>\n",
       "      <td>0.076544</td>\n",
       "    </tr>\n",
       "  </tbody>\n",
       "</table>\n",
       "</div>"
      ],
      "text/plain": [
       "          Muni  Eviction Numbers  Renter Occupied  \\\n",
       "5     Brockton              1507            14317   \n",
       "1  Springfield              2983            30095   \n",
       "3  New Bedford              2282            23255   \n",
       "0    Worcester              3743            42026   \n",
       "4       Lowell              1741            22745   \n",
       "\n",
       "   Evictions per Rented Households  \n",
       "5                         0.105259  \n",
       "1                         0.099119  \n",
       "3                         0.098129  \n",
       "0                         0.089064  \n",
       "4                         0.076544  "
      ]
     },
     "execution_count": 9,
     "metadata": {},
     "output_type": "execute_result"
    }
   ],
   "source": [
    "compare_higher.head(5).sort_values(by='Evictions per Rented Households',ascending=False)"
   ]
  },
  {
   "cell_type": "code",
   "execution_count": null,
   "id": "6bfee682",
   "metadata": {},
   "outputs": [],
   "source": []
  }
 ],
 "metadata": {
  "kernelspec": {
   "display_name": "Python 3 (ipykernel)",
   "language": "python",
   "name": "python3"
  },
  "language_info": {
   "codemirror_mode": {
    "name": "ipython",
    "version": 3
   },
   "file_extension": ".py",
   "mimetype": "text/x-python",
   "name": "python",
   "nbconvert_exporter": "python",
   "pygments_lexer": "ipython3",
   "version": "3.7.10"
  }
 },
 "nbformat": 4,
 "nbformat_minor": 5
}
