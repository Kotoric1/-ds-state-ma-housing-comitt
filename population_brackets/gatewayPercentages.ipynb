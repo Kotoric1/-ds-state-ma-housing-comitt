{
 "cells": [
  {
   "cell_type": "code",
   "execution_count": 1,
   "id": "ae398aea",
   "metadata": {},
   "outputs": [],
   "source": [
    "#Trivikram Ranga"
   ]
  },
  {
   "cell_type": "code",
   "execution_count": 2,
   "id": "3061f7aa",
   "metadata": {},
   "outputs": [],
   "source": [
    "import pandas as pd"
   ]
  },
  {
   "cell_type": "code",
   "execution_count": 3,
   "id": "b23afaa2",
   "metadata": {},
   "outputs": [],
   "source": [
    "#GATEWAY CITIES\n",
    "gateway_cities = [ 'Attleboro', 'Barnstable', 'Brockton', 'Chelsea', 'Chicopee', 'Everett', 'Fall River', \n",
    "                  'Fitchburg', 'Haverhill', 'Holyoke', 'Lawrence', 'Leominster', \n",
    "                  'Lowell', 'Lynn', 'Malden', 'Methuen','New Bedford', 'Peabody', 'Pittsfield', 'Quincy', \n",
    "                  'Revere', 'Salem', 'Springfield', 'Taunton', 'Westfield','Worcester']"
   ]
  },
  {
   "cell_type": "code",
   "execution_count": 4,
   "id": "f3335080",
   "metadata": {},
   "outputs": [],
   "source": [
    "#NUMBER OF GATEWAY CITIES\n",
    "num_gc = len(gateway_cities)"
   ]
  },
  {
   "cell_type": "code",
   "execution_count": 5,
   "id": "41b5df6e",
   "metadata": {},
   "outputs": [],
   "source": [
    "lte1000 = pd.read_csv('LTE1000.csv')\n",
    "Gt1kLt10k = pd.read_csv('1kTO10K.csv')\n",
    "Gt10kLt50k = pd.read_csv('10kTO50K.csv')\n",
    "Gt50kLt90k = pd.read_csv('50kTO90K.csv')\n",
    "Gt90kLt200k = pd.read_csv('90kTO200K.csv')\n"
   ]
  },
  {
   "cell_type": "code",
   "execution_count": 6,
   "id": "19cc38c8",
   "metadata": {},
   "outputs": [],
   "source": [
    "#RETRIEVE NUM OF GATEWAY CITIES PER BRACKET\n",
    "lte1000_num = lte1000['Geographic Area Name'].isin(gateway_cities)[lte1000['Geographic Area Name'].isin(gateway_cities) == True].shape[0]\n",
    "Gt1kLt10k_num = Gt1kLt10k['Geographic Area Name'].isin(gateway_cities)[Gt1kLt10k['Geographic Area Name'].isin(gateway_cities) == True].shape[0]\n",
    "Gt10kLt50k_num = Gt10kLt50k['Geographic Area Name'].isin(gateway_cities)[Gt10kLt50k['Geographic Area Name'].isin(gateway_cities) == True].shape[0]\n",
    "Gt50kLt90k_num = Gt50kLt90k['Geographic Area Name'].isin(gateway_cities)[Gt50kLt90k['Geographic Area Name'].isin(gateway_cities) == True].shape[0]\n",
    "Gt90kLt200k_num = Gt90kLt200k['Geographic Area Name'].isin(gateway_cities)[Gt90kLt200k['Geographic Area Name'].isin(gateway_cities) == True].shape[0]"
   ]
  },
  {
   "cell_type": "code",
   "execution_count": 7,
   "id": "de753b43",
   "metadata": {},
   "outputs": [
    {
     "name": "stdout",
     "output_type": "stream",
     "text": [
      "% of gateway cities with pop <= 1000 :  0.0\n",
      "% of gateway cities with pop > 1000 & <= 10000 :  0.0\n",
      "% of gateway cities with pop > 10000 & <= 50000 :  38.46153846153846\n",
      "% of gateway cities with pop > 50000 & <= 90000 :  34.61538461538461\n",
      "% of gateway cities with pop > 90000 & <= 200000:  26.923076923076923\n"
     ]
    }
   ],
   "source": [
    "print('% of gateway cities with pop <= 1000 : ',lte1000_num*100/num_gc)\n",
    "print('% of gateway cities with pop > 1000 & <= 10000 : ',Gt1kLt10k_num*100/num_gc)\n",
    "print('% of gateway cities with pop > 10000 & <= 50000 : ',Gt10kLt50k_num*100/num_gc)\n",
    "print('% of gateway cities with pop > 50000 & <= 90000 : ',Gt50kLt90k_num*100/num_gc)\n",
    "print('% of gateway cities with pop > 90000 & <= 200000: ',Gt90kLt200k_num*100/num_gc)"
   ]
  },
  {
   "cell_type": "code",
   "execution_count": null,
   "id": "4179708a",
   "metadata": {},
   "outputs": [],
   "source": []
  }
 ],
 "metadata": {
  "kernelspec": {
   "display_name": "Python 3 (ipykernel)",
   "language": "python",
   "name": "python3"
  },
  "language_info": {
   "codemirror_mode": {
    "name": "ipython",
    "version": 3
   },
   "file_extension": ".py",
   "mimetype": "text/x-python",
   "name": "python",
   "nbconvert_exporter": "python",
   "pygments_lexer": "ipython3",
   "version": "3.7.10"
  }
 },
 "nbformat": 4,
 "nbformat_minor": 5
}
