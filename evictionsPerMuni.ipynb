{
 "cells": [
  {
   "cell_type": "code",
   "execution_count": 1,
   "id": "700f1cb3",
   "metadata": {},
   "outputs": [],
   "source": [
    "import pandas as pd\n",
    "import numpy as np\n",
    "pd.set_option('display.max_rows', None)"
   ]
  },
  {
   "cell_type": "code",
   "execution_count": 2,
   "id": "78354347",
   "metadata": {},
   "outputs": [],
   "source": [
    "df = pd.read_csv('Eviction Filings thru July2021.csv')"
   ]
  },
  {
   "cell_type": "code",
   "execution_count": 3,
   "id": "9822c76a",
   "metadata": {},
   "outputs": [],
   "source": [
    "counts = df.muni.value_counts().reset_index()\n",
    "counts.rename(columns={'index':'Muni','muni':'Count'},inplace=True)"
   ]
  },
  {
   "cell_type": "markdown",
   "id": "b392ad8e",
   "metadata": {},
   "source": [
    "<h2>Municipalities with the most evictions (>100) : </h2>"
   ]
  },
  {
   "cell_type": "code",
   "execution_count": 4,
   "id": "ae36254a",
   "metadata": {},
   "outputs": [
    {
     "name": "stdout",
     "output_type": "stream",
     "text": [
      "          Muni  Count\n",
      "0    Worcester    576\n",
      "1       Boston    483\n",
      "2   Fall River    354\n",
      "3  New Bedford    293\n",
      "4  Springfield    171\n",
      "5   Framingham    169\n",
      "6    Fitchburg    121\n",
      "7     Brockton    119\n",
      "8         Lynn    115\n",
      "9       Lowell    115\n"
     ]
    }
   ],
   "source": [
    "print(counts.head(10))"
   ]
  },
  {
   "cell_type": "code",
   "execution_count": 5,
   "id": "8cd6d5ac",
   "metadata": {},
   "outputs": [
    {
     "name": "stdout",
     "output_type": "stream",
     "text": [
      "243\n"
     ]
    }
   ],
   "source": [
    "print(counts.shape[0])"
   ]
  },
  {
   "cell_type": "markdown",
   "id": "d07a0400",
   "metadata": {},
   "source": [
    "<h2>Municipalities with the 1 eviction : </h2>"
   ]
  },
  {
   "cell_type": "code",
   "execution_count": 6,
   "id": "8c6eb711",
   "metadata": {},
   "outputs": [
    {
     "name": "stdout",
     "output_type": "stream",
     "text": [
      "Number of municipalities with 1 eviction :  44\n"
     ]
    }
   ],
   "source": [
    "print('Number of municipalities with 1 eviction : ',counts[counts['Count'] == 1].Muni.unique().shape[0])"
   ]
  },
  {
   "cell_type": "code",
   "execution_count": 7,
   "id": "901a483e",
   "metadata": {},
   "outputs": [
    {
     "name": "stdout",
     "output_type": "stream",
     "text": [
      "['Russell' 'Millville' 'Ipswich' 'Monterey' 'Lynnfield' 'Ashby'\n",
      " 'Southwick' 'Shutesbury' 'Monson' 'Merrimac' 'Charlemont' 'Middleton'\n",
      " 'Winchester' 'Boxborough' 'Tisbury' 'Southborough' 'Deerfield'\n",
      " 'Dunstable' 'Lee' 'Rockport' 'Halifax' 'Wilmington' 'Richmond' 'Sharon'\n",
      " 'Williamsburg' 'Nahant' 'Rowe' 'Shelburne' 'Princeton' 'Paxton' 'Stow'\n",
      " 'Oakham' 'Harvard' 'Bedford' 'Concord' 'Dover' 'Maynard' 'Boxford'\n",
      " 'Wellesley' 'Mendon' 'Chatham' 'Longmeadow' 'Savoy' 'Wrentham']\n"
     ]
    }
   ],
   "source": [
    "print(counts[counts['Count'] == 1].Muni.unique())"
   ]
  },
  {
   "cell_type": "markdown",
   "id": "8952b23a",
   "metadata": {},
   "source": [
    "<h2>Municipalities with less than 10 evictions : </h2>"
   ]
  },
  {
   "cell_type": "code",
   "execution_count": 8,
   "id": "0a6f705c",
   "metadata": {},
   "outputs": [
    {
     "name": "stdout",
     "output_type": "stream",
     "text": [
      "Number of municipalities with less than 10 evictions :  168\n"
     ]
    }
   ],
   "source": [
    "print('Number of municipalities with less than 10 evictions : ',counts[counts['Count'] < 10].Muni.unique().shape[0])"
   ]
  },
  {
   "cell_type": "code",
   "execution_count": 9,
   "id": "2631a20b",
   "metadata": {},
   "outputs": [
    {
     "name": "stdout",
     "output_type": "stream",
     "text": [
      "['Dartmouth' 'Needham' 'Oxford' 'Dennis' 'Seekonk' 'Hopkinton' 'Harwich'\n",
      " 'Walpole' 'Newburyport' 'Millbury' 'South Hadley' 'Hanover' 'Uxbridge'\n",
      " 'Clinton' 'Tewksbury' 'Hull' 'Arlington' 'Orange' 'Northborough'\n",
      " 'Lakeville' 'Westwood' 'Stoneham' 'Natick' 'Spencer' 'Ware' 'Marshfield'\n",
      " 'Mansfield' 'Kingston' 'Salisbury' 'Amesbury' 'Watertown' 'Franklin'\n",
      " 'Bridgewater' 'Fairhaven' 'Winchendon' 'Leicester' 'Wakefield' 'Easton'\n",
      " 'Swampscott' 'Hardwick' 'Montague' 'Duxbury' 'Belchertown' 'Townsend'\n",
      " 'Andover' 'Easthampton' 'Charlton' 'Saugus' 'Danvers' 'Grafton'\n",
      " 'Holbrook' 'Ashland' 'Hudson' 'Auburn' 'West Boylston' 'Gloucester'\n",
      " 'Bellingham' 'Nantucket' 'Westport' 'Blackstone' 'North Andover' 'Milton'\n",
      " 'Acton' 'Warren' 'Marblehead' 'Great Barrington' 'Dracut' 'Shirley'\n",
      " 'Dedham' 'Pepperell' 'Templeton' 'Tyngsborough' 'West Brookfield'\n",
      " 'Holden' 'Freetown' 'Swansea' 'Reading' 'Douglas' 'Plainville' 'Hadley'\n",
      " 'Somerset' 'Boylston' 'Hingham' 'Raynham' 'Lancaster' 'Amherst'\n",
      " 'Ashburnham' 'Hanson' 'Dighton' 'Avon' 'Melrose' 'Orleans' 'Hopedale'\n",
      " 'Provincetown' 'Cohasset' 'East Longmeadow' 'Belmont' 'Dalton'\n",
      " 'Billerica' 'Palmer' 'Wayland' 'Sudbury' 'Williamstown' 'Ludlow' 'Bolton'\n",
      " 'Brewster' 'East Bridgewater' 'West Stockbridge' 'Eastham' 'Medfield'\n",
      " 'Upton' 'Westford' 'Acushnet' 'Chelmsford' 'Rutland' 'Ayer' 'Sturbridge'\n",
      " 'Lexington' 'Northampton' 'Edgartown' 'Brookfield' 'Pembroke' 'Rehoboth'\n",
      " 'Mattapoisett' 'Russell' 'Millville' 'Ipswich' 'Monterey' 'Lynnfield'\n",
      " 'Ashby' 'Southwick' 'Shutesbury' 'Monson' 'Merrimac' 'Charlemont'\n",
      " 'Middleton' 'Winchester' 'Boxborough' 'Tisbury' 'Southborough'\n",
      " 'Deerfield' 'Dunstable' 'Lee' 'Rockport' 'Halifax' 'Wilmington'\n",
      " 'Richmond' 'Sharon' 'Williamsburg' 'Nahant' 'Rowe' 'Shelburne'\n",
      " 'Princeton' 'Paxton' 'Stow' 'Oakham' 'Harvard' 'Bedford' 'Concord'\n",
      " 'Dover' 'Maynard' 'Boxford' 'Wellesley' 'Mendon' 'Chatham' 'Longmeadow'\n",
      " 'Savoy' 'Wrentham']\n"
     ]
    }
   ],
   "source": [
    "print(counts[counts['Count'] < 10].Muni.unique())"
   ]
  },
  {
   "cell_type": "markdown",
   "id": "48b0ab5a",
   "metadata": {},
   "source": [
    "<h2>Municipalities having between 10 and 100 evictions : </h2>"
   ]
  },
  {
   "cell_type": "code",
   "execution_count": 10,
   "id": "cc5c7744",
   "metadata": {},
   "outputs": [
    {
     "name": "stdout",
     "output_type": "stream",
     "text": [
      "Number of municipalities having between 10 and 100 evictions :  65\n"
     ]
    }
   ],
   "source": [
    "print('Number of municipalities having between 10 and 100 evictions : ',counts[(counts['Count'] >= 10) &\n",
    "                                                                               (counts['Count'] <= 100)]\n",
    "                                                                         .Muni.unique().shape[0])"
   ]
  },
  {
   "cell_type": "code",
   "execution_count": 11,
   "id": "d98ad028",
   "metadata": {},
   "outputs": [
    {
     "name": "stdout",
     "output_type": "stream",
     "text": [
      "['Marlborough' 'Lawrence' 'Quincy' 'Taunton' 'Pittsfield' 'Somerville'\n",
      " 'Leominster' 'Weymouth' 'Gardner' 'Chelsea' 'Revere' 'Haverhill'\n",
      " 'Cambridge' 'Webster' 'Norwood' 'Malden' 'Milford' 'Barnstable'\n",
      " 'Attleboro' 'Chicopee' 'Westborough' 'West Springfield' 'Southbridge'\n",
      " 'Salem' 'Plymouth' 'North Adams' 'Holyoke' 'Middleborough' 'Everett'\n",
      " 'Braintree' 'Rockland' 'Athol' 'Methuen' 'Mashpee' 'Woburn' 'Peabody'\n",
      " 'Randolph' 'Falmouth' 'Wareham' 'Whitman' 'Newton' 'Yarmouth' 'Stoughton'\n",
      " 'North Attleborough' 'Foxborough' 'Sandwich' 'Canton' 'Winthrop'\n",
      " 'Medford' 'Northbridge' 'Bourne' 'Westfield' 'Lunenburg' 'Shrewsbury'\n",
      " 'Waltham' 'Brookline' 'Norton' 'Beverly' 'Abington' 'Carver' 'Adams'\n",
      " 'Burlington' 'Agawam' 'Greenfield' 'Dudley']\n"
     ]
    }
   ],
   "source": [
    "print(counts[(counts['Count'] >= 10) &(counts['Count'] <= 100)].Muni.unique())"
   ]
  },
  {
   "cell_type": "code",
   "execution_count": null,
   "id": "c7d162d0",
   "metadata": {},
   "outputs": [],
   "source": []
  }
 ],
 "metadata": {
  "kernelspec": {
   "display_name": "Python 3 (ipykernel)",
   "language": "python",
   "name": "python3"
  },
  "language_info": {
   "codemirror_mode": {
    "name": "ipython",
    "version": 3
   },
   "file_extension": ".py",
   "mimetype": "text/x-python",
   "name": "python",
   "nbconvert_exporter": "python",
   "pygments_lexer": "ipython3",
   "version": "3.7.10"
  }
 },
 "nbformat": 4,
 "nbformat_minor": 5
}
