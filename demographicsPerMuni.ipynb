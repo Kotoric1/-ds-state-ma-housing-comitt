{
 "cells": [
  {
   "cell_type": "code",
   "execution_count": null,
   "id": "98931fb1",
   "metadata": {},
   "outputs": [],
   "source": [
    "import pandas as pd"
   ]
  },
  {
   "cell_type": "code",
   "execution_count": null,
   "id": "4f7f81aa",
   "metadata": {},
   "outputs": [],
   "source": [
    "idf = pd.read_csv('2019_5Y_Estimates.csv',skiprows=1)\n",
    "cdf = pd.read_csv('Eviction Filings thru July2021.csv')"
   ]
  },
  {
   "cell_type": "code",
   "execution_count": null,
   "id": "3257b075",
   "metadata": {},
   "outputs": [],
   "source": [
    "counts = cdf.muni.value_counts().reset_index()\n",
    "counts.rename(columns={'index':'Muni','muni':'Eviction Numbers'},inplace=True)"
   ]
  },
  {
   "cell_type": "code",
   "execution_count": null,
   "id": "f3e79b97",
   "metadata": {},
   "outputs": [],
   "source": [
    "boolCols = idf.columns.str.contains('Estimate')\n",
    "newCols = list(idf.columns[0:2])\n",
    "for col in range(2,len(boolCols)):\n",
    "    if boolCols[col] == True:\n",
    "        newCols.append(idf.columns[col])"
   ]
  },
  {
   "cell_type": "code",
   "execution_count": null,
   "id": "5cd69d6d",
   "metadata": {},
   "outputs": [],
   "source": [
    "df = idf[newCols]"
   ]
  },
  {
   "cell_type": "code",
   "execution_count": null,
   "id": "a28fa7c9",
   "metadata": {},
   "outputs": [],
   "source": [
    "muni_list = []\n",
    "for x in range(df.shape[0]):\n",
    "    wsplit = []\n",
    "    wsplit = df.iloc[x]['Geographic Area Name'].split()\n",
    "    word = ' '\n",
    "    reject_list = ['town','Town','city','City','city,','City,','town,','Town,']\n",
    "    for w in wsplit:\n",
    "        if w in reject_list:\n",
    "            break\n",
    "        else:    \n",
    "            word += ' ' + w \n",
    "    muni_list.append(word)\n",
    "    "
   ]
  },
  {
   "cell_type": "code",
   "execution_count": null,
   "id": "59ca1f8d",
   "metadata": {},
   "outputs": [],
   "source": [
    "df['Geographic Area Name'] = muni_list\n",
    "df['Geographic Area Name'] = df['Geographic Area Name'].str.lstrip()\n",
    "df['Geographic Area Name'] = df['Geographic Area Name'].str.rstrip()"
   ]
  },
  {
   "cell_type": "markdown",
   "id": "f7beb533",
   "metadata": {},
   "source": [
    "<h2>This DataFrame contains demographics at municipality level </h2>"
   ]
  },
  {
   "cell_type": "code",
   "execution_count": null,
   "id": "bd3afb54",
   "metadata": {},
   "outputs": [],
   "source": [
    "final_df = pd.merge(counts,df,left_on='Muni',right_on='Geographic Area Name').drop(columns=['id','Geographic Area Name'])"
   ]
  }
 ],
 "metadata": {
  "kernelspec": {
   "display_name": "Python 3 (ipykernel)",
   "language": "python",
   "name": "python3"
  },
  "language_info": {
   "codemirror_mode": {
    "name": "ipython",
    "version": 3
   },
   "file_extension": ".py",
   "mimetype": "text/x-python",
   "name": "python",
   "nbconvert_exporter": "python",
   "pygments_lexer": "ipython3",
   "version": "3.7.10"
  }
 },
 "nbformat": 4,
 "nbformat_minor": 5
}
